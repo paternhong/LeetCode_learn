{
 "cells": [
  {
   "cell_type": "markdown",
   "metadata": {},
   "source": [
    "Given a binary tree, find its maximum depth.  \n",
    "The maximum depth is the number of nodes along the longest path from the root node down to the farthest leaf node.  \n",
    "Note: A leaf is a node with no children.  \n",
    "\n",
    "Example:\n",
    "```python\n",
    "Given binary tree [3,9,20,null,null,15,7],\n",
    "\n",
    "    3\n",
    "   / \\\n",
    "  9  20\n",
    "    /  \\\n",
    "   15   7\n",
    "return its depth = 3.\n",
    "```"
   ]
  },
  {
   "cell_type": "markdown",
   "metadata": {},
   "source": [
    "## Answer 1"
   ]
  },
  {
   "cell_type": "markdown",
   "metadata": {},
   "source": [
    "```python\n",
    "# Definition for a binary tree node.\n",
    "# class TreeNode:\n",
    "#     def __init__(self, x):\n",
    "#         self.val = x\n",
    "#         self.left = None\n",
    "#         self.right = None\n",
    "\n",
    "class Solution:\n",
    "    def maxDepth(self, root: TreeNode) -> int:\n",
    "        # 無root，回傳0層\n",
    "        if not root:\n",
    "            return 0\n",
    "        # 有root且有left & right child，回傳1層並加上max(left.child, right.child)\n",
    "        if root.left and root.right:\n",
    "            return 1 + max(self.maxDepth(root.left), self.maxDepth(root.right))\n",
    "        # 有root且只有left child，回傳1層並加上maxDepth(left.child)\n",
    "        elif root.left:\n",
    "            return 1 + self.maxDepth(root.left)\n",
    "        # 有root且只有right child，回傳1層並加上maxDepth(right.child)\n",
    "        elif root.right:\n",
    "            return 1 + self.maxDepth(root.right)\n",
    "        # 有root但是沒有child的話，只回傳1\n",
    "        return 1\n",
    "    ```"
   ]
  },
  {
   "cell_type": "code",
   "execution_count": null,
   "metadata": {},
   "outputs": [],
   "source": []
  },
  {
   "cell_type": "code",
   "execution_count": null,
   "metadata": {},
   "outputs": [],
   "source": []
  }
 ],
 "metadata": {
  "kernelspec": {
   "display_name": "Python 3",
   "language": "python",
   "name": "python3"
  },
  "language_info": {
   "codemirror_mode": {
    "name": "ipython",
    "version": 3
   },
   "file_extension": ".py",
   "mimetype": "text/x-python",
   "name": "python",
   "nbconvert_exporter": "python",
   "pygments_lexer": "ipython3",
   "version": "3.7.3"
  }
 },
 "nbformat": 4,
 "nbformat_minor": 2
}
