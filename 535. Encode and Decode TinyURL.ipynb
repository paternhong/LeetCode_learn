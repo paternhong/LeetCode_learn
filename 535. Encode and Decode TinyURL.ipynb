{
 "cells": [
  {
   "cell_type": "markdown",
   "metadata": {},
   "source": [
    "Note: This is a companion problem to the System Design problem: Design TinyURL.\n",
    "TinyURL is a URL shortening service where you enter a URL such as https://leetcode.com/problems/design-tinyurl and it returns a short URL such as http://tinyurl.com/4e9iAk.\n",
    "\n",
    "Design the encode and decode methods for the TinyURL service. There is no restriction on how your encode/decode algorithm should work. You just need to ensure that a URL can be encoded to a tiny URL and the tiny URL can be decoded to the original URL."
   ]
  },
  {
   "cell_type": "markdown",
   "metadata": {},
   "source": [
    "```python\n",
    "class Codec:\n",
    "    \n",
    "    import random\n",
    "    def __init__(self):\n",
    "        self.enco_dict = {}\n",
    "        self.deco_dict = {}\n",
    "        self.base = '0123456789abcdefghijklmnopqestuvwxyzABCDEFGHIJKLMNOPQRSTUVWXYZ'\n",
    "\n",
    "    def encode(self, longUrl):\n",
    "        \"\"\"Encodes a URL to a shortened URL.\n",
    "        \n",
    "        :type longUrl: str\n",
    "        :rtype: str\n",
    "        \"\"\"\n",
    "        if longUrl in self.enco_dict:\n",
    "            return self.enco_dict[longUrl]\n",
    "        else:\n",
    "            tinyurl = 'http://tinyurl.com/' + ''.join([random.choice(self.base) for i in range(5)])\n",
    "            # 若是產生的url為重複的，重新產生一組\n",
    "            while tinyurl in self.deco_dict:\n",
    "                tinyurl = 'http://tinyurl.com/' + ''.join([random.choice(self.base) for i in range(5)])\n",
    "            self.enco_dict[longUrl] = tinyurl\n",
    "            self.deco_dict[tinyurl] = longUrl\n",
    "        \n",
    "        return tinyurl\n",
    "\n",
    "    def decode(self, shortUrl):\n",
    "        \"\"\"Decodes a shortened URL to its original URL.\n",
    "        \n",
    "        :type shortUrl: str\n",
    "        :rtype: str\n",
    "        \"\"\"\n",
    "        if shortUrl not in self.deco_dict:\n",
    "            return 'Invalid url'\n",
    "        else:\n",
    "            return self.deco_dict[shortUrl]\n",
    "        \n",
    "\n",
    "# Your Codec object will be instantiated and called as such:\n",
    "# codec = Codec()\n",
    "# codec.decode(codec.encode(url))\n",
    "```"
   ]
  }
 ],
 "metadata": {
  "kernelspec": {
   "display_name": "Python 3",
   "language": "python",
   "name": "python3"
  },
  "language_info": {
   "codemirror_mode": {
    "name": "ipython",
    "version": 3
   },
   "file_extension": ".py",
   "mimetype": "text/x-python",
   "name": "python",
   "nbconvert_exporter": "python",
   "pygments_lexer": "ipython3",
   "version": "3.7.3"
  }
 },
 "nbformat": 4,
 "nbformat_minor": 2
}
