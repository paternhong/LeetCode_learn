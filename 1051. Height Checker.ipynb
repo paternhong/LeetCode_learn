{
 "cells": [
  {
   "cell_type": "markdown",
   "metadata": {},
   "source": [
    "Students are asked to stand in non-decreasing order of heights for an annual photo.  \n",
    "Return the minimum number of students not standing in the right positions.  (This is the number of students that must move in order for all students to be standing in non-decreasing order of height.)  \n",
    "\n",
    "<font color=orange>Example 1:</font>\n",
    "```python\n",
    "Input:             [1,1,4,2,1,3]\n",
    "non-decreas:  [1,1,1,2,3,4] # what non-decreasing will be\n",
    "Output: 3\n",
    "Explanation: \n",
    "Students with heights 4, 3 and the last 1 are not standing in the right positions.\n",
    "```\n",
    "<font color=orange>Note:</font>  \n",
    "1 <= heights.length <= 100  \n",
    "1 <= heights<font color=green>[i]</font> <= 100"
   ]
  },
  {
   "cell_type": "markdown",
   "metadata": {},
   "source": [
    "https://leetcode.com/problems/height-checker/"
   ]
  },
  {
   "cell_type": "markdown",
   "metadata": {},
   "source": [
    "## Answer 1"
   ]
  },
  {
   "cell_type": "markdown",
   "metadata": {},
   "source": [
    "```python\n",
    "class Solution:\n",
    "    def heightChecker(self, heights: List[int]) -> int:\n",
    "        non_dec = sorted(heights)\n",
    "        count = 0\n",
    "        for i in range(len(heights)):\n",
    "            if non_dec[i] != heights[i]:\n",
    "                count += 1\n",
    "        return count\n",
    "```"
   ]
  },
  {
   "cell_type": "markdown",
   "metadata": {},
   "source": []
  }
 ],
 "metadata": {
  "kernelspec": {
   "display_name": "Python 3",
   "language": "python",
   "name": "python3"
  },
  "language_info": {
   "codemirror_mode": {
    "name": "ipython",
    "version": 3
   },
   "file_extension": ".py",
   "mimetype": "text/x-python",
   "name": "python",
   "nbconvert_exporter": "python",
   "pygments_lexer": "ipython3",
   "version": "3.7.3"
  }
 },
 "nbformat": 4,
 "nbformat_minor": 2
}
