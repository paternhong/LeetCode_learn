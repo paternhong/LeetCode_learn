{
 "cells": [
  {
   "cell_type": "markdown",
   "metadata": {},
   "source": [
    "Let's call an array A a mountain if the following properties hold:\n",
    "\n",
    "A.length >= 3  \n",
    "There exists some 0 < i < A.length - 1 such that  \n",
    "A[0] < A[1] < ... A[i-1] < A[i] > A[i+1] > ... > A[A.length - 1]  \n",
    "Given an array that is definitely a mountain, return any i such that  \n",
    "A[0] < A[1] < ... A[i-1] < A[i] > A[i+1] > ... > A[A.length - 1]  \n",
    "```python\n",
    "Example 1:\n",
    "\n",
    "Input: [0,1,0]\n",
    "Output: 1\n",
    "    \n",
    "Example 2:\n",
    "\n",
    "Input: [0,2,1,0]\n",
    "Output: 1\n",
    "```\n",
    "Note:  \n",
    "3 <= A.length <= 10000  \n",
    "0 <= A[i] <= 10^6  \n",
    "A is a mountain, as defined above."
   ]
  },
  {
   "cell_type": "markdown",
   "metadata": {},
   "source": [
    "https://leetcode.com/problems/peak-index-in-a-mountain-array/"
   ]
  },
  {
   "cell_type": "markdown",
   "metadata": {},
   "source": [
    "## Answer 1"
   ]
  },
  {
   "cell_type": "markdown",
   "metadata": {},
   "source": [
    "```python\n",
    "class Solution:\n",
    "    def peakIndexInMountainArray(self, A: List[int]) -> int:\n",
    "        n = len(A)\n",
    "        if A[0] > A[1]:\n",
    "            return 0\n",
    "        elif A[n - 1] > A[n - 2]:\n",
    "            return n - 1\n",
    "        for i in range(1, n - 1):\n",
    "            if A[i] > A[i - 1] and A[i] > A[i + 1]:\n",
    "                return i\n",
    "```"
   ]
  },
  {
   "cell_type": "markdown",
   "metadata": {},
   "source": [
    "## Answer 2"
   ]
  },
  {
   "cell_type": "markdown",
   "metadata": {},
   "source": [
    "```python\n",
    "class Solution:\n",
    "    def peakIndexInMountainArray(self, A: List[int]) -> int:\n",
    "        return A.index(max(A))\n",
    "```"
   ]
  }
 ],
 "metadata": {
  "kernelspec": {
   "display_name": "Python 3",
   "language": "python",
   "name": "python3"
  },
  "language_info": {
   "codemirror_mode": {
    "name": "ipython",
    "version": 3
   },
   "file_extension": ".py",
   "mimetype": "text/x-python",
   "name": "python",
   "nbconvert_exporter": "python",
   "pygments_lexer": "ipython3",
   "version": "3.7.3"
  }
 },
 "nbformat": 4,
 "nbformat_minor": 2
}
