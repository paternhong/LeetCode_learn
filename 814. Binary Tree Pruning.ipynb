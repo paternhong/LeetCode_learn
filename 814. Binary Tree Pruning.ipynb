{
 "cells": [
  {
   "cell_type": "markdown",
   "metadata": {},
   "source": [
    "We are given the head node root of a binary tree, where additionally every node's value is either a 0 or a 1.\n",
    "\n",
    "Return the same tree where every subtree (of the given tree) not containing a 1 has been removed.\n",
    "\n",
    "(Recall that the subtree of a node X is X, plus every node that is a descendant of X.)\n",
    "```python\n",
    "Example 1:\n",
    "Input: [1,null,0,0,1]\n",
    "Output: [1,null,0,null,1]\n",
    " \n",
    "Explanation: \n",
    "Only the red nodes satisfy the property \"every subtree not containing a 1\".\n",
    "The diagram on the right represents the answer.\n",
    "```\n",
    "![Alt text](https://s3-lc-upload.s3.amazonaws.com/uploads/2018/04/06/1028_2.png)\n",
    "```python\n",
    "Example 2:\n",
    "Input: [1,0,1,0,0,0,1]\n",
    "Output: [1,null,1,null,1]\n",
    "```\n",
    "![Alt text](https://s3-lc-upload.s3.amazonaws.com/uploads/2018/04/06/1028_1.png)\n",
    "```python\n",
    "Example 3:\n",
    "Input: [1,1,0,1,1,0,1,0]\n",
    "Output: [1,1,0,1,1,null,1]\n",
    "```\n",
    "![Alt text](https://s3-lc-upload.s3.amazonaws.com/uploads/2018/04/05/1028.png)\n",
    "Note:  \n",
    "The binary tree will have at most 100 nodes.  \n",
    "The value of each node will only be 0 or 1."
   ]
  },
  {
   "cell_type": "markdown",
   "metadata": {},
   "source": [
    "https://leetcode.com/problems/binary-tree-pruning/"
   ]
  },
  {
   "cell_type": "markdown",
   "metadata": {},
   "source": [
    "## Answer 1\n",
    "```python\n",
    "# Definition for a binary tree node.\n",
    "# class TreeNode:\n",
    "#     def __init__(self, x):\n",
    "#         self.val = x\n",
    "#         self.left = None\n",
    "#         self.right = None\n",
    "\n",
    "class Solution:\n",
    "    def pruneTree(self, root: TreeNode) -> TreeNode:\n",
    "        # 'change root == None' ---> 'not root' can speed up\n",
    "        if not root:\n",
    "            return None\n",
    "        # 要從最底層開始判斷起\n",
    "        root.left = self.pruneTree(root.left)\n",
    "        root.right = self.pruneTree(root.right)\n",
    "        if root.val == 0 and not root.right and not root.left:\n",
    "            return None\n",
    "             \n",
    "        return root\n",
    "```"
   ]
  },
  {
   "cell_type": "markdown",
   "metadata": {},
   "source": []
  },
  {
   "cell_type": "markdown",
   "metadata": {},
   "source": []
  }
 ],
 "metadata": {
  "kernelspec": {
   "display_name": "Python 3",
   "language": "python",
   "name": "python3"
  },
  "language_info": {
   "codemirror_mode": {
    "name": "ipython",
    "version": 3
   },
   "file_extension": ".py",
   "mimetype": "text/x-python",
   "name": "python",
   "nbconvert_exporter": "python",
   "pygments_lexer": "ipython3",
   "version": "3.7.3"
  }
 },
 "nbformat": 4,
 "nbformat_minor": 2
}
