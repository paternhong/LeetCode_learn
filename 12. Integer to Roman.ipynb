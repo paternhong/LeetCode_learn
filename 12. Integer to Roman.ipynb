{
 "cells": [
  {
   "cell_type": "markdown",
   "metadata": {},
   "source": [
    "Roman numerals are represented by seven different symbols: I, V, X, L, C, D and M.\n",
    "\n",
    "Symbol       Value  \n",
    "I             1  \n",
    "V             5  \n",
    "X             10  \n",
    "L             50  \n",
    "C             100  \n",
    "D             500  \n",
    "M             1000  \n",
    "For example, two is written as II in Roman numeral, just two one's added together. Twelve is written as, XII, which is simply X + II. The number twenty seven is written as XXVII, which is XX + V + II.\n",
    "\n",
    "Roman numerals are usually written largest to smallest from left to right. However, the numeral for four is not IIII. Instead, the number four is written as IV. Because the one is before the five we subtract it making four. The same principle applies to the number nine, which is written as IX. There are six instances where subtraction is used:\n",
    "\n",
    "I can be placed before V (5) and X (10) to make 4 and 9.  \n",
    "X can be placed before L (50) and C (100) to make 40 and 90.  \n",
    "C can be placed before D (500) and M (1000) to make 400 and 900.  \n",
    "Given an integer, convert it to a roman numeral. Input is guaranteed to be within the range from 1 to 3999."
   ]
  },
  {
   "cell_type": "markdown",
   "metadata": {},
   "source": [
    "https://leetcode.com/problems/integer-to-roman/"
   ]
  },
  {
   "cell_type": "markdown",
   "metadata": {},
   "source": [
    "Example 1:\n",
    "\n",
    "Input: 3  \n",
    "Output: \"III\"  \n",
    "Example 2:\n",
    "\n",
    "Input: 4  \n",
    "Output: \"IV\"  \n",
    "Example 3:\n",
    "\n",
    "Input: 9  \n",
    "Output: \"IX\"  \n",
    "Example 4:\n",
    "\n",
    "Input: 58  \n",
    "Output: \"LVIII\"  \n",
    "Explanation: L = 50, V = 5, III = 3.  \n",
    "Example 5:\n",
    "\n",
    "Input: 1994  \n",
    "Output: \"MCMXCIV\"  \n",
    "Explanation: M = 1000, CM = 900, XC = 90 and IV = 4."
   ]
  },
  {
   "cell_type": "code",
   "execution_count": null,
   "metadata": {},
   "outputs": [],
   "source": [
    "class Solution:\n",
    "    def intToRoman(self, num: int) -> str:\n",
    "        roman_dict = {'1': 'I', '5': 'V', '10': 'X', '50': 'L', '100': 'C', '500': 'D', '1000': 'M'}\n",
    "        special = {'4': 'IV', '9': 'IX', '40': 'XL', '90': 'XC', '400': 'CD', '900': 'CM'}\n",
    "        \n",
    "        ans = ''\n",
    "        num_str = str(num)\n",
    "        decimal_point = 0\n",
    "        \n",
    "        # string reverse operate\n",
    "        for i in range(len(num_str) - 1, -1, -1):\n",
    "            temp = num_str[i] + ('0'*(decimal_point))\n",
    "            if temp in special.keys():\n",
    "                ans = special[temp] + ans\n",
    "            elif int(num_str[i]) < 4:\n",
    "                # I multiple amount\n",
    "                ans = roman_dict['1' + '0'*(decimal_point)] * int(num_str[i]) + ans\n",
    "            \n",
    "            elif int(num_str[i]) > 4 and int(num_str[i]) < 9:\n",
    "                # Deal with the situation in another range\n",
    "                ans = roman_dict['5'+ '0'*(decimal_point)] + roman_dict['1' + '0'*(decimal_point)] * (int(num_str[i]) - 5) + ans\n",
    "            \n",
    "            decimal_point += 1\n",
    "            \n",
    "        return ans"
   ]
  },
  {
   "cell_type": "code",
   "execution_count": null,
   "metadata": {},
   "outputs": [],
   "source": [
    "class Solution:\n",
    "    def intToRoman(self, num: int) -> str:\n",
    "        roman_dict = {'1': 'I', '5': 'V', '10': 'X', '50': 'L', '100': 'C', '500': 'D', '1000': 'M'}\n",
    "        \n",
    "        ans = ''\n",
    "        num_str = str(num)\n",
    "        decimal_point = 0\n",
    "        \n",
    "        # string reverse operate\n",
    "        for i in range(len(num_str) - 1, -1, -1):\n",
    "            temp = num_str[i] + ('0'*(decimal_point))\n",
    "            \n",
    "            ''' Use logical to do the judgement.\n",
    "            Ex. \n",
    "            4 = IV >>> 'I' (1) + 'V' (4 + 1)\n",
    "            9 = IX >>> 'I' (1) + 'X' (9 + 1)\n",
    "            40 = XL >>> 'X' (10) + 'L' (40 + 10)\n",
    "            90 = XC >>> 'X' (10) + 'C' (90 + 10)\n",
    "            ...\n",
    "            \n",
    "            '''\n",
    "            if int(num_str[i]) == 4 or int(num_str[i]) == 9:\n",
    "                temp_2 = int(num_str[i]) + 1\n",
    "                ans = roman_dict['1' + '0'*(decimal_point)] + roman_dict[str(temp_2) + '0'*(decimal_point)] + ans\n",
    "            elif int(num_str[i]) < 4:\n",
    "                # I multiple amount\n",
    "                ans = roman_dict['1' + '0'*(decimal_point)] * int(num_str[i]) + ans\n",
    "            \n",
    "            elif int(num_str[i]) > 4 and int(num_str[i]) < 9:\n",
    "                # Deal with the situation in another range\n",
    "                ans = roman_dict['5'+ '0'*(decimal_point)] + roman_dict['1' + '0'*(decimal_point)] * (int(num_str[i]) - 5) + ans\n",
    "            \n",
    "            decimal_point += 1\n",
    "            \n",
    "        return ans"
   ]
  },
  {
   "cell_type": "code",
   "execution_count": null,
   "metadata": {},
   "outputs": [],
   "source": []
  },
  {
   "cell_type": "code",
   "execution_count": null,
   "metadata": {},
   "outputs": [],
   "source": []
  }
 ],
 "metadata": {
  "kernelspec": {
   "display_name": "Python 3",
   "language": "python",
   "name": "python3"
  },
  "language_info": {
   "codemirror_mode": {
    "name": "ipython",
    "version": 3
   },
   "file_extension": ".py",
   "mimetype": "text/x-python",
   "name": "python",
   "nbconvert_exporter": "python",
   "pygments_lexer": "ipython3",
   "version": "3.7.3"
  }
 },
 "nbformat": 4,
 "nbformat_minor": 2
}
