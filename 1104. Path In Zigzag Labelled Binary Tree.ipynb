{
 "cells": [
  {
   "cell_type": "markdown",
   "metadata": {},
   "source": [
    "In an infinite binary tree where every node has two children, the nodes are labelled in row order.\n",
    "  \n",
    "In the odd numbered rows (ie., the first, third, fifth,...), the labelling is left to right, while in the even numbered rows (second, fourth, sixth,...), the labelling is right to left.\n",
    "<img src='https://assets.leetcode.com/uploads/2019/06/24/tree.png'>\n",
    "Given the label of a node in this tree, return the labels in the path from the root of the tree to the node with that label.\n",
    "\n",
    "```python\n",
    "Example 1:\n",
    "\n",
    "Input: label = 14\n",
    "Output: [1,3,4,14]\n",
    "    \n",
    "Example 2:\n",
    "\n",
    "Input: label = 26\n",
    "Output: [1,2,6,10,26]\n",
    "```\n",
    "\n",
    "Constraints:  \n",
    "1 <= label <= 10^6"
   ]
  },
  {
   "cell_type": "markdown",
   "metadata": {},
   "source": [
    "https://leetcode.com/problems/path-in-zigzag-labelled-binary-tree/"
   ]
  },
  {
   "cell_type": "markdown",
   "metadata": {},
   "source": [
    "## Answer 1 (迴圈)"
   ]
  },
  {
   "cell_type": "markdown",
   "metadata": {},
   "source": [
    "```python\n",
    "class Solution:\n",
    "    def pathInZigZagTree(self, label: int) -> List[int]:\n",
    "        if label == 1:\n",
    "            return [1]\n",
    "        if label <= 3:\n",
    "            return [1, label]\n",
    "        temp = []\n",
    "        while label > 0:\n",
    "            temp = [label] + temp\n",
    "            if label % 2 == 0:\n",
    "                label = label // 2\n",
    "            else:\n",
    "                label = (label - 1) // 2\n",
    "\n",
    "        ans_len = len(temp)\n",
    "\n",
    "        if ans_len % 2 == 0:\n",
    "            # 偶數從0層開始每次+2層\n",
    "            for i in range(0, ans_len, 2):\n",
    "                '''\n",
    "                找對稱位置的數值\n",
    "                上一層為止的總數(等於上一層為止最後的數) + 這層相對位置數值在本層的位置\n",
    "                '''\n",
    "                temp[i] = (2 ** i - 1) + (2 ** (i + 1) - 1) - temp[i] + 1\n",
    "        else:\n",
    "            # 奇數從1層開始每次+2層\n",
    "            for i in range(1, ans_len, 2):\n",
    "                temp[i] = (2 ** i - 1) + (2 ** (i + 1) - 1) - temp[i] + 1\n",
    "\n",
    "        ans = temp\n",
    "        return ans    \n",
    "```"
   ]
  },
  {
   "cell_type": "markdown",
   "metadata": {},
   "source": [
    "## Answer 1 (遞迴)"
   ]
  },
  {
   "cell_type": "markdown",
   "metadata": {},
   "source": [
    "```python\n",
    "class Solution:\n",
    "    def pathInZigZagTree(self, label: int) -> List[int]:\n",
    "        def _run(target, layer):\n",
    "            if layer == 0:\n",
    "                return [1]\n",
    "\n",
    "            # 預期的父輩(和實際的父輩在同一層為\"對稱關係\")\n",
    "            if target % 2 == 0:\n",
    "                ex_parent = target // 2\n",
    "            else:\n",
    "                ex_parent = (target - 1) // 2\n",
    "            '''\n",
    "            實際父輩 = \n",
    "            ((父輩那層為止的總數 - 預期的父輩) + 1)    +   父輩上一層為止的總數\n",
    "            #  實際父輩再當層的位置(和預期父輩對稱)\n",
    "            '''\n",
    "            parent = (((2 ** layer - 1) - ex_parent) + 1) \\\n",
    "                     + (2 ** (layer - 1) - 1)\n",
    "            \n",
    "            return _run(parent, layer - 1) + [target]\n",
    "        \n",
    "        posi = 0\n",
    "        total = 0\n",
    "        while total < label:\n",
    "            total = total + 2 ** posi\n",
    "            posi = posi + 1\n",
    "        # 總共層數\n",
    "        posi = posi - 1\n",
    "\n",
    "        return _run(label, posi)\n",
    "```"
   ]
  },
  {
   "cell_type": "markdown",
   "metadata": {},
   "source": [
    "## Answer 2 (遞迴、和Answer 1差在找parent的邏輯不同)"
   ]
  },
  {
   "cell_type": "markdown",
   "metadata": {},
   "source": [
    "```python\n",
    "class Solution:\n",
    "    def pathInZigZagTree(self, label: int) -> List[int]:\n",
    "        def _run(target, layer):\n",
    "            if layer == 0:\n",
    "                return [1]\n",
    "            '''\n",
    "            都同一個方向時，父為子的 x/2 or (x - 1) / 2， \n",
    "            target位置原本應該的數字 = 到當層為止的總數 - target + 1 + 到上一層為止的總數 \n",
    "\n",
    "            '''\n",
    "            ori_num = (2**(layer + 1) - 1) - target + 1  + 2**layer - 1\n",
    "            if ori_num % 2 == 0:\n",
    "                parent = ori_num // 2\n",
    "            else:\n",
    "                parent = (ori_num - 1) // 2\n",
    "                \n",
    "            return _run(parent, layer - 1) + [target]\n",
    "        \n",
    "        posi = 0\n",
    "        total = 0\n",
    "        while total < label:\n",
    "            total = total + 2 ** posi\n",
    "            posi = posi + 1\n",
    "        # 總共層數\n",
    "        posi = posi - 1\n",
    "\n",
    "        return _run(label, posi)\n",
    "```"
   ]
  }
 ],
 "metadata": {
  "kernelspec": {
   "display_name": "Python 3",
   "language": "python",
   "name": "python3"
  },
  "language_info": {
   "codemirror_mode": {
    "name": "ipython",
    "version": 3
   },
   "file_extension": ".py",
   "mimetype": "text/x-python",
   "name": "python",
   "nbconvert_exporter": "python",
   "pygments_lexer": "ipython3",
   "version": "3.7.3"
  }
 },
 "nbformat": 4,
 "nbformat_minor": 2
}
