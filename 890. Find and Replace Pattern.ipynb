{
 "cells": [
  {
   "cell_type": "markdown",
   "metadata": {},
   "source": [
    "You have a list of words and a pattern, and you want to know which words in words matches the pattern.  \n",
    "A word matches the pattern if there exists a permutation of letters p so that after replacing every letter x in the pattern with p(x), we get the desired word.  \n",
    "(Recall that a permutation of letters is a bijection from letters to letters: every letter maps to another letter, and no two letters map to the same letter.)\n",
    "  \n",
    "Return a list of the words in words that match the given pattern.   \n",
    "You may return the answer in any order.\n",
    "```python\n",
    "Example 1:\n",
    "Input: words = [\"abc\",\"deq\",\"mee\",\"aqq\",\"dkd\",\"ccc\"], pattern = \"abb\"\n",
    "Output: [\"mee\",\"aqq\"]\n",
    "Explanation: \"mee\" matches the pattern because there is a permutation {a -> m, b -> e, ...}. \n",
    "\"ccc\" does not match the pattern because {a -> c, b -> c, ...} is not a permutation,\n",
    "since a and b map to the same letter.\n",
    " ```\n",
    "\n",
    "Note:  \n",
    "1 <= words.length <= 50  \n",
    "1 <= pattern.length = words[i].length <= 20"
   ]
  },
  {
   "cell_type": "markdown",
   "metadata": {},
   "source": [
    "https://leetcode.com/problems/find-and-replace-pattern/"
   ]
  },
  {
   "cell_type": "markdown",
   "metadata": {},
   "source": [
    "## Answer 1\n",
    "```python\n",
    "class Solution:\n",
    "    def findAndReplacePattern(self, words: List[str], pattern: str) -> List[str]:\n",
    "        for word in words[:]:\n",
    "            if len(word) == len(pattern):\n",
    "                temp = {}\n",
    "                for i in range(len(pattern)):\n",
    "                    # 沒出現過的模式，則儲存進模式字典內\n",
    "                    if pattern[i] not in temp.keys():\n",
    "                        # 若是對應值已經在字典內，則把此字元移除出list，並跳出換下一個字比對\n",
    "                        # 不能多對一\n",
    "                        if word[i] in temp.values():\n",
    "                            words.remove(word)\n",
    "                            break\n",
    "                        temp[pattern[i]] = word[i]\n",
    "                    # 若是字典內已經有，且和儲存在字典的模式不同\n",
    "                    # 則把此字元移除出list，並跳出換下一個字比對\n",
    "                    if word[i] != temp[pattern[i]]:\n",
    "                        words.remove(word)\n",
    "                        break\n",
    "        return words\n",
    "```"
   ]
  },
  {
   "cell_type": "markdown",
   "metadata": {},
   "source": [
    "## Answer 2\n",
    "```python\n",
    "class Solution:\n",
    "    def findAndReplacePattern(self, words: List[str], pattern: str) -> List[str]:\n",
    "        ''' The idea is based on transforming the pattern based on the index of each\n",
    "        letter encountered in it. Thus \"aqq\" becomes [0,1,1].'''\n",
    "        # 重複的只會取最前面的一個\n",
    "        _pattern = [pattern.index(i) for i in pattern]\n",
    "        ans = []\n",
    "        for word in words:\n",
    "            word_pattern = [word.index(i) for i in word]\n",
    "            if word_pattern == _pattern:\n",
    "                ans.append(word)\n",
    "        return ans\n",
    "        '''\n",
    "        最簡化版\n",
    "        return [word for word in words if [word.index(i) for i in word] == [pattern.index(i) for i in pattern]]\n",
    "        '''\n",
    "```"
   ]
  },
  {
   "cell_type": "markdown",
   "metadata": {},
   "source": []
  }
 ],
 "metadata": {
  "kernelspec": {
   "display_name": "Python 3",
   "language": "python",
   "name": "python3"
  },
  "language_info": {
   "codemirror_mode": {
    "name": "ipython",
    "version": 3
   },
   "file_extension": ".py",
   "mimetype": "text/x-python",
   "name": "python",
   "nbconvert_exporter": "python",
   "pygments_lexer": "ipython3",
   "version": "3.7.3"
  }
 },
 "nbformat": 4,
 "nbformat_minor": 2
}
