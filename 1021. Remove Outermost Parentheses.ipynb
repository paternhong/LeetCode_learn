{
 "cells": [
  {
   "cell_type": "markdown",
   "metadata": {},
   "source": [
    "A valid parentheses string is either empty (\"\"), \"(\" + A + \")\", or A + B, where A and B are valid parentheses strings, and + represents string concatenation.  For example, \"\", \"()\", \"(())()\", and \"(()(()))\" are all valid parentheses strings.\n",
    "\n",
    "A valid parentheses string S is primitive if it is nonempty, and there does not exist a way to split it into S = A+B, with A and B nonempty valid parentheses strings.\n",
    "\n",
    "Given a valid parentheses string S, consider its primitive decomposition: S = P_1 + P_2 + ... + P_k, where P_i are primitive valid parentheses strings.\n",
    "\n",
    "Return S after removing the outermost parentheses of every primitive string in the primitive decomposition of S.\n",
    "```python\n",
    "Example 1:\n",
    "\n",
    "Input: \"(()())(())\"\n",
    "Output: \"()()()\"\n",
    "Explanation: \n",
    "The input string is \"(()())(())\", with primitive decomposition \"(()())\" + \"(())\".\n",
    "After removing outer parentheses of each part, this is \"()()\" + \"()\" = \"()()()\".\n",
    "Example 2:\n",
    "\n",
    "Input: \"(()())(())(()(()))\"\n",
    "Output: \"()()()()(())\"\n",
    "Explanation: \n",
    "The input string is \"(()())(())(()(()))\", with primitive decomposition \"(()())\" + \"(())\" + \"(()(()))\".\n",
    "After removing outer parentheses of each part, this is \"()()\" + \"()\" + \"()(())\" = \"()()()()(())\".\n",
    "Example 3:\n",
    "\n",
    "Input: \"()()\"\n",
    "Output: \"\"\n",
    "Explanation: \n",
    "The input string is \"()()\", with primitive decomposition \"()\" + \"()\".\n",
    "After removing outer parentheses of each part, this is \"\" + \"\" = \"\".\n",
    "```\n",
    "Note:  \n",
    "S.length <= 10000  \n",
    "S[i] is \"(\" or \")\"  \n",
    "S is a valid parentheses string"
   ]
  },
  {
   "cell_type": "markdown",
   "metadata": {},
   "source": [
    "https://leetcode.com/problems/remove-outermost-parentheses/"
   ]
  },
  {
   "cell_type": "markdown",
   "metadata": {},
   "source": [
    "## Answer1\n",
    "```python\n",
    "class Solution:\n",
    "    def removeOuterParentheses(self, S: str) -> str:\n",
    "        address = range(len(S))\n",
    "        str_list = []\n",
    "        new_str = ''\n",
    "        left_P = 0\n",
    "        right_P = 0\n",
    "        for i in address:\n",
    "            if S[i] == '(':\n",
    "                left_P = left_P + 1\n",
    "                if left_P == 1:\n",
    "                    pass\n",
    "                else:\n",
    "                    str_list.append(S[i])\n",
    "            elif S[i] == ')':\n",
    "                right_P = right_P + 1\n",
    "                if right_P == left_P:\n",
    "                    left_P = 0\n",
    "                    right_P = 0\n",
    "                else:\n",
    "                    str_list.append(S[i])\n",
    "        for i in str_list:\n",
    "            new_str = new_str + i\n",
    "        return new_str\n",
    "```"
   ]
  },
  {
   "cell_type": "markdown",
   "metadata": {},
   "source": [
    "## Answer 2\n",
    "```python\n",
    "class Solution:\n",
    "    def removeOuterParentheses(self, S: str) -> str:\n",
    "        new_list = []\n",
    "        open = 0  # Use to confirm status\n",
    "        for i in range(len(S)):\n",
    "            if S[i] == '(':\n",
    "                if open > 0:  # open equal to 0 means it's new_part\n",
    "                    new_list.append(S[i])\n",
    "                open += 1\n",
    "            else:\n",
    "                if S[i] == ')':\n",
    "                    if open > 1:  # open equal to 1 means this part is gonna closed\n",
    "                        new_list.append(S[i])\n",
    "                open -= 1\n",
    "        return ''.join(new_list)\n",
    "```"
   ]
  },
  {
   "cell_type": "code",
   "execution_count": null,
   "metadata": {},
   "outputs": [],
   "source": []
  }
 ],
 "metadata": {
  "kernelspec": {
   "display_name": "Python 3",
   "language": "python",
   "name": "python3"
  },
  "language_info": {
   "codemirror_mode": {
    "name": "ipython",
    "version": 3
   },
   "file_extension": ".py",
   "mimetype": "text/x-python",
   "name": "python",
   "nbconvert_exporter": "python",
   "pygments_lexer": "ipython3",
   "version": "3.7.3"
  }
 },
 "nbformat": 4,
 "nbformat_minor": 2
}
