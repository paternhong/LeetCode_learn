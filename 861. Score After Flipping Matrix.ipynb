{
 "cells": [
  {
   "cell_type": "markdown",
   "metadata": {},
   "source": [
    "We have a two dimensional matrix A where each value is 0 or 1.  \n",
    "\n",
    "A move consists of choosing any row or column, and toggling each value in that row or column: changing all 0s to 1s, and all 1s to 0s.  \n",
    "\n",
    "After making any number of moves, every row of this matrix is interpreted as a binary number, and the score of the matrix is the sum of these numbers.  \n",
    "\n",
    "Return the highest possible score.\n",
    "```python\n",
    "Example 1:\n",
    "    \n",
    "Input: [[0,0,1,1],[1,0,1,0],[1,1,0,0]]\n",
    "Output: 39\n",
    "Explanation:\n",
    "Toggled to [[1,1,1,1],[1,0,0,1],[1,1,1,1]].\n",
    "0b1111 + 0b1001 + 0b1111 = 15 + 9 + 15 = 39\n",
    " ```  \n",
    "Note:  \n",
    "1 <= A.length <= 20  \n",
    "1 <= A<font color=green>[0]</font>.length <= 20  \n",
    "A<font color=green>[i][j]</font> is 0 or 1."
   ]
  },
  {
   "cell_type": "markdown",
   "metadata": {},
   "source": [
    "https://leetcode.com/problems/score-after-flipping-matrix/"
   ]
  },
  {
   "cell_type": "markdown",
   "metadata": {},
   "source": [
    "```python\n",
    "class Solution:\n",
    "    def matrixScore(self, A: List[List[int]]) -> int:\n",
    "        total = 0\n",
    "        row_num = len(A)\n",
    "        col_num = len(A[0])\n",
    "        # 讓每個list的頭都為1\n",
    "        for i in range(row_num):\n",
    "            if A[i][0] == 0:\n",
    "                for j in range(col_num):\n",
    "                    A[i][j] = 1 - A[i][j]\n",
    "        total = total + row_num*(2**(col_num - 1))\n",
    "        \n",
    "        # 從第二行開始，每行判斷為 0的數量多 or 1的數量多\n",
    "        for num in range(1, col_num):\n",
    "            cou_zero = 0\n",
    "            cou_one = 0\n",
    "            for i in range(row_num):\n",
    "                if A[i][num] == 0:\n",
    "                    cou_zero += 1\n",
    "                else:\n",
    "                    cou_one += 1\n",
    "            if cou_zero > cou_one:\n",
    "                for i in range(row_num):\n",
    "                    A[i][num] = 1 -A[i][num]\n",
    "                total = total + cou_zero*(2**((col_num - 1) - num))\n",
    "            else:\n",
    "                total = total + cou_one*(2**((col_num - 1) - num))\n",
    "            \n",
    "        return total\n",
    "```"
   ]
  },
  {
   "cell_type": "code",
   "execution_count": null,
   "metadata": {},
   "outputs": [],
   "source": []
  }
 ],
 "metadata": {
  "kernelspec": {
   "display_name": "Python 3",
   "language": "python",
   "name": "python3"
  },
  "language_info": {
   "codemirror_mode": {
    "name": "ipython",
    "version": 3
   },
   "file_extension": ".py",
   "mimetype": "text/x-python",
   "name": "python",
   "nbconvert_exporter": "python",
   "pygments_lexer": "ipython3",
   "version": "3.7.3"
  }
 },
 "nbformat": 4,
 "nbformat_minor": 2
}
