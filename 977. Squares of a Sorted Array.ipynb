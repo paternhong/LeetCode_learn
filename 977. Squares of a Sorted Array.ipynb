{
 "cells": [
  {
   "cell_type": "markdown",
   "metadata": {},
   "source": [
    "Given an array of integers A sorted in non-decreasing order, return an array of the squares of each number, also in sorted non-decreasing order.\n",
    "\n",
    "\n",
    "Example 1:  \n",
    "Input: [-4,-1,0,3,10]  \n",
    "Output: [0,1,9,16,100]\n",
    "\n",
    "Example 2:  \n",
    "Input: [-7,-3,2,3,11]  \n",
    "Output: [4,9,9,49,121]\n",
    "\n",
    "Note:  \n",
    "1 <= A.length <= 10000  \n",
    "-10000 <= A[i] <= 10000  \n",
    "A is sorted in non-decreasing order."
   ]
  },
  {
   "cell_type": "markdown",
   "metadata": {},
   "source": [
    "https://leetcode.com/problems/squares-of-a-sorted-array/"
   ]
  },
  {
   "cell_type": "code",
   "execution_count": null,
   "metadata": {},
   "outputs": [],
   "source": [
    "class Solution:\n",
    "    def sortedSquares(self, A: List[int]) -> List[int]:\n",
    "        for i in range(len(A)):\n",
    "            A[i] = A[i] ** 2\n",
    "        A.sort()\n",
    "        \n",
    "        return A"
   ]
  },
  {
   "cell_type": "code",
   "execution_count": null,
   "metadata": {},
   "outputs": [],
   "source": [
    "class Solution:\n",
    "    def sortedSquares(self, A: List[int]) -> List[int]:\n",
    "        return sorted(x*x for x in A)"
   ]
  },
  {
   "cell_type": "code",
   "execution_count": null,
   "metadata": {},
   "outputs": [],
   "source": [
    "class Solution:\n",
    "    def sortedSquares(self, A: List[int]) -> List[int]:\n",
    "        # pointer\n",
    "        left = 0\n",
    "        ans = []\n",
    "        # find the intersection point of negative and positive\n",
    "        # append of list is better than insert method\n",
    "        while left < len(A) and A[left] < 0:\n",
    "            left += 1\n",
    "        right = left\n",
    "        left = left - 1\n",
    "        while left >= 0 and right < len(A):\n",
    "            if abs(A[left]) <= A[right]:\n",
    "                ans.append(A[left] ** 2)\n",
    "                left -= 1\n",
    "            else:\n",
    "                ans.append(A[right] ** 2)\n",
    "                right += 1\n",
    "        while left >= 0:\n",
    "            ans.append(A[left] ** 2)\n",
    "            left -= 1\n",
    "        while right < len(A):\n",
    "            ans.append(A[right] ** 2)\n",
    "            right += 1\n",
    "        \n",
    "        return ans"
   ]
  },
  {
   "cell_type": "code",
   "execution_count": null,
   "metadata": {},
   "outputs": [],
   "source": [
    "class Solution:\n",
    "    def sortedSquares(self, A: List[int]) -> List[int]:\n",
    "        ans = [x * x for x in A]\n",
    "        ans.sort()\n",
    "        return ans"
   ]
  },
  {
   "cell_type": "code",
   "execution_count": null,
   "metadata": {},
   "outputs": [],
   "source": []
  },
  {
   "cell_type": "code",
   "execution_count": null,
   "metadata": {},
   "outputs": [],
   "source": []
  },
  {
   "cell_type": "code",
   "execution_count": null,
   "metadata": {},
   "outputs": [],
   "source": []
  }
 ],
 "metadata": {
  "kernelspec": {
   "display_name": "Python 3",
   "language": "python",
   "name": "python3"
  },
  "language_info": {
   "codemirror_mode": {
    "name": "ipython",
    "version": 3
   },
   "file_extension": ".py",
   "mimetype": "text/x-python",
   "name": "python",
   "nbconvert_exporter": "python",
   "pygments_lexer": "ipython3",
   "version": "3.7.3"
  }
 },
 "nbformat": 4,
 "nbformat_minor": 2
}
