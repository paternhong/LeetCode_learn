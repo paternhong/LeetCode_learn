{
 "cells": [
  {
   "cell_type": "markdown",
   "metadata": {},
   "source": [
    "Given a string S of '<font color=\"orange\">(</font>' and '<font color=\"orange\">)</font>' parentheses, we add the minimum number of parentheses ( '<font color=\"orange\">(</font>' or '<font color=\"orange\">)</font>', and in any positions ) so that the resulting parentheses string is valid.\n",
    "\n",
    "Formally, a parentheses string is valid if and only if:\n",
    "\n",
    "It is the empty string, or  \n",
    "It can be written as AB (A concatenated with B), where A and B are valid strings, or  \n",
    "It can be written as (A), where A is a valid string.  \n",
    "Given a parentheses string, return the minimum number of parentheses we must add to make the resulting string valid.  \n",
    "```python\n",
    "Example 1:\n",
    "\n",
    "Input: \"())\"\n",
    "Output: 1\n",
    "Example 2:\n",
    "\n",
    "Input: \"(((\"\n",
    "Output: 3\n",
    "Example 3:\n",
    "\n",
    "Input: \"()\"\n",
    "Output: 0\n",
    "Example 4:\n",
    "\n",
    "Input: \"()))((\"\n",
    "Output: 4\n",
    "```\n",
    "Note:  \n",
    "S.length <= 1000  \n",
    "S only consists of '<font color=\"orange\">(</font>' and '<font color=\"orange\">)</font>' characters."
   ]
  },
  {
   "cell_type": "markdown",
   "metadata": {},
   "source": [
    "https://leetcode.com/problems/minimum-add-to-make-parentheses-valid/"
   ]
  },
  {
   "cell_type": "markdown",
   "metadata": {},
   "source": [
    "## Answer 1"
   ]
  },
  {
   "cell_type": "markdown",
   "metadata": {},
   "source": [
    "```python\n",
    "class Solution:\n",
    "    def minAddToMakeValid(self, S: str) -> int:\n",
    "        ans = []\n",
    "        for i in range(len(S)):\n",
    "            if  ans != []:\n",
    "                if S[i] == ')' and ans[-1] == '(':\n",
    "                    ans.pop()\n",
    "                else:\n",
    "                    ans.append(S[i])\n",
    "            else:\n",
    "                ans.append(S[i])\n",
    "        return len(ans)\n",
    "```"
   ]
  },
  {
   "cell_type": "markdown",
   "metadata": {},
   "source": [
    "## Answer 2"
   ]
  },
  {
   "cell_type": "markdown",
   "metadata": {},
   "source": [
    "```python\n",
    "class Solution:\n",
    "    def minAddToMakeValid(self, S: str) -> int:\n",
    "        bal, ans = 0, 0\n",
    "        for symbol in S:\n",
    "            if symbol == '(':\n",
    "                bal += 1\n",
    "            else:\n",
    "                bal -= 1\n",
    "            # bal 等於 -1 代表左邊不會再受影響\n",
    "            if bal == -1:\n",
    "                ans += 1\n",
    "                # bal歸位\n",
    "                bal += 1\n",
    "        \n",
    "        # 再加上bal是因為最右邊那段可能為'(((('的情況\n",
    "        return ans + bal\n",
    "```"
   ]
  }
 ],
 "metadata": {
  "kernelspec": {
   "display_name": "Python 3",
   "language": "python",
   "name": "python3"
  },
  "language_info": {
   "codemirror_mode": {
    "name": "ipython",
    "version": 3
   },
   "file_extension": ".py",
   "mimetype": "text/x-python",
   "name": "python",
   "nbconvert_exporter": "python",
   "pygments_lexer": "ipython3",
   "version": "3.7.3"
  }
 },
 "nbformat": 4,
 "nbformat_minor": 2
}
