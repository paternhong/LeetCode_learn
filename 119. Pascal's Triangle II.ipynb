{
 "cells": [
  {
   "cell_type": "markdown",
   "metadata": {},
   "source": [
    "Given a non-negative index k where k ≤ 33, return the kth index row of the Pascal's triangle.\n",
    "\n",
    "Note that the row index starts from 0.  \n",
    "In Pascal's triangle, each number is the sum of the two numbers directly above it.\n",
    "```python\n",
    "Example:\n",
    "Input: 3\n",
    "Output: [1,3,3,1]\n",
    "```\n",
    "Follow up:  \n",
    "Could you optimize your algorithm to use only O(k) extra space?"
   ]
  },
  {
   "cell_type": "markdown",
   "metadata": {},
   "source": [
    "https://leetcode.com/problems/pascals-triangle-ii/"
   ]
  },
  {
   "cell_type": "markdown",
   "metadata": {},
   "source": [
    "```python\n",
    "class Solution:\n",
    "    def getRow(self, rowIndex: int) -> List[int]:\n",
    "        if  rowIndex < 0:\n",
    "            return []\n",
    "        ans = []\n",
    "        pre_row = self.getRow(rowIndex - 1)\n",
    "        for i in range(rowIndex + 1):\n",
    "            if i == 0 or i == rowIndex:\n",
    "                ans.append(1)\n",
    "            else:\n",
    "                ans.append(pre_row[i-1] + pre_row[i])\n",
    "                \n",
    "        return ans\n",
    "```"
   ]
  },
  {
   "cell_type": "markdown",
   "metadata": {},
   "source": []
  },
  {
   "cell_type": "markdown",
   "metadata": {},
   "source": []
  }
 ],
 "metadata": {
  "kernelspec": {
   "display_name": "Python 3",
   "language": "python",
   "name": "python3"
  },
  "language_info": {
   "codemirror_mode": {
    "name": "ipython",
    "version": 3
   },
   "file_extension": ".py",
   "mimetype": "text/x-python",
   "name": "python",
   "nbconvert_exporter": "python",
   "pygments_lexer": "ipython3",
   "version": "3.7.3"
  }
 },
 "nbformat": 4,
 "nbformat_minor": 2
}
