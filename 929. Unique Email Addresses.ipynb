{
 "cells": [
  {
   "cell_type": "markdown",
   "metadata": {},
   "source": [
    ">Every email consists of a local name and a domain name, separated by the <font color=lightgreen>@</font> sign.  \n",
    "For example, in alice@leetcode.com, <font color=orange>alice</font> is the <font color=lightgreen>local name</font>, and <font color=orange>leetcode.com</font> is the <font color=lightgreen>domain name</font>.  \n",
    "Besides lowercase letters, these emails may contain <font color=lightgreen>'.'</font>s or <font color=lightgreen>'+'</font>s.\n",
    "\n",
    ">If you add periods <font color=lightgreen>('.')</font> between some characters in the local name part of an email address, mail sent there will be forwarded to the same address without dots in the local name.  \n",
    "For example, \"alice.z@leetcode.com\" and \"alicez@leetcode.com\" forward to the same email address.  (Note that this rule does not apply for domain names.)\n",
    "  \n",
    ">If you add a plus <font color=lightgreen>('+')</font> in the local name, everything after the first plus sign will be ignored. This allows certain emails to be filtered, for example m.y+name@email.com will be forwarded to my@email.com.  (Again, this rule does not apply for domain names.)    \n",
    "It is possible to use both of these rules at the same time.  \n",
    "  \n",
    ">Given a list of emails, we send one email to each address in the list.  How many different addresses actually receive mails? \n",
    "\n",
    "<font color=orange>Example 1:</font>\n",
    "```python\n",
    "Input: [\"test.email+alex@leetcode.com\",\"test.e.mail+bob.cathy@leetcode.com\",\"testemail+david@lee.tcode.com\"]\n",
    "Output: 2\n",
    "Explanation: \"testemail@leetcode.com\" and \"testemail@lee.tcode.com\" actually receive mails\n",
    "``` \n",
    "\n",
    "<font color=orange>Note:</font>  \n",
    "1 <= emails<font color=lightgreen>[i]</font>.length <= 100  \n",
    "1 <= emails.length <= 100  \n",
    "Each emails<font color=lightgreen>[i]</font> contains exactly one <font color=lightgreen>'@'</font> character.  \n",
    "All local and domain names are non-empty.  \n",
    "Local names do not start with a <font color=lightgreen>'+'</font> character."
   ]
  },
  {
   "cell_type": "markdown",
   "metadata": {},
   "source": [
    "https://leetcode.com/problems/unique-email-addresses/submissions/"
   ]
  },
  {
   "cell_type": "markdown",
   "metadata": {},
   "source": [
    "## Answer 1 (冗長但是好理解)"
   ]
  },
  {
   "cell_type": "markdown",
   "metadata": {},
   "source": [
    "```python\n",
    "class Solution:\n",
    "    def numUniqueEmails(self, emails: List[str]) -> int:\n",
    "        mail_list = []\n",
    "        for mail in emails:\n",
    "            sep = mail.index('@')\n",
    "            domain = mail[sep + 1:]\n",
    "            # remove the '.' in local name\n",
    "            local = ''.join(mail[:sep].split('.'))\n",
    "            for i in range(len(local)):\n",
    "                if local[i] == '+':\n",
    "                    local = local[:i]\n",
    "                    break\n",
    "            cur_mail = local + '@' + domain\n",
    "            if cur_mail not in mail_list:\n",
    "                mail_list.append(cur_mail)\n",
    "        return len(mail_list)\n",
    "```"
   ]
  },
  {
   "cell_type": "markdown",
   "metadata": {},
   "source": [
    "## Answer 2\n",
    "#### 把@也放到domain裡面，反正也是不會變動的部分\n",
    "#### 改用字串的replace方法，降低執行時間 (使用正規表達式的re.sub()方法也可以)"
   ]
  },
  {
   "cell_type": "markdown",
   "metadata": {},
   "source": [
    "```python\n",
    "class Solution:\n",
    "    def numUniqueEmails(self, emails: List[str]) -> int:\n",
    "        mail_list = []\n",
    "        for mail in emails:\n",
    "            sep = mail.index('@')\n",
    "            domain = mail[sep:]\n",
    "            # remove the '.' in local name\n",
    "            local = mail[:sep].replace('.', '')\n",
    "            for i in range(len(local)):\n",
    "                if local[i] == '+':\n",
    "                    local = local[:i]\n",
    "                    break\n",
    "            cur_mail = local + domain\n",
    "            if cur_mail not in mail_list:\n",
    "                mail_list.append(cur_mail)\n",
    "        return len(mail_list)\n",
    "```"
   ]
  }
 ],
 "metadata": {
  "kernelspec": {
   "display_name": "Python 3",
   "language": "python",
   "name": "python3"
  },
  "language_info": {
   "codemirror_mode": {
    "name": "ipython",
    "version": 3
   },
   "file_extension": ".py",
   "mimetype": "text/x-python",
   "name": "python",
   "nbconvert_exporter": "python",
   "pygments_lexer": "ipython3",
   "version": "3.7.3"
  }
 },
 "nbformat": 4,
 "nbformat_minor": 2
}
