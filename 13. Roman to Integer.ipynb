{
 "cells": [
  {
   "cell_type": "markdown",
   "metadata": {},
   "source": [
    "Roman numerals are represented by seven different symbols: I, V, X, L, C, D and M.\n",
    "\n",
    "\n",
    "Symbol       Value  \n",
    "I                 1  \n",
    "V                5  \n",
    "X                10  \n",
    "L                50  \n",
    "C                100  \n",
    "D                500  \n",
    "M                1000  \n",
    "\n",
    "\n",
    "For example, two is written as II in Roman numeral, just two one's added together. Twelve is written as, XII, which is simply X + II. The number twenty seven is written as XXVII, which is XX + V + II.\n",
    "\n",
    "Roman numerals are usually written largest to smallest from left to right. However, the numeral for four is not IIII. Instead, the number four is written as IV. Because the one is before the five we subtract it making four. The same principle applies to the number nine, which is written as IX. There are six instances where subtraction is used:\n",
    "\n",
    "I can be placed before V (5) and X (10) to make 4 and 9. \n",
    "X can be placed before L (50) and C (100) to make 40 and 90. \n",
    "C can be placed before D (500) and M (1000) to make 400 and 900.\n",
    "Given a roman numeral, convert it to an integer. Input is guaranteed to be within the range from 1 to 3999."
   ]
  },
  {
   "cell_type": "markdown",
   "metadata": {},
   "source": [
    "https://leetcode.com/problems/roman-to-integer/"
   ]
  },
  {
   "cell_type": "markdown",
   "metadata": {},
   "source": [
    "Example 1:\n",
    "\n",
    "Input: \"III\"  \n",
    "Output: 3\n",
    "\n",
    "Example 2:\n",
    "\n",
    "Input: \"IV\"  \n",
    "Output: 4\n",
    "\n",
    "Example 3:\n",
    "\n",
    "Input: \"IX\"  \n",
    "Output: 9\n",
    "\n",
    "Example 4:\n",
    "\n",
    "Input: \"LVIII\"  \n",
    "Output: 58  \n",
    "Explanation: L = 50, V= 5, III = 3.\n",
    "\n",
    "Example 5:\n",
    "\n",
    "Input: \"MCMXCIV\"  \n",
    "Output: 1994  \n",
    "Explanation: M = 1000, CM = 900, XC = 90 and IV = 4."
   ]
  },
  {
   "cell_type": "code",
   "execution_count": null,
   "metadata": {},
   "outputs": [],
   "source": [
    "class Solution:\n",
    "    def romanToInt(self, s: str) -> int:\n",
    "        # Hint: if special char, it will only appear one time\n",
    "        roman_dict = {'I': 1, 'V': 5, 'X': 10, 'L': 50, 'C': 100, 'D': 500, 'M': 1000}\n",
    "        special = {'IV': 4, 'IX': 9, 'XL': 40, 'XC': 90, 'CD': 400, 'CM': 900}\n",
    "        sum = 0\n",
    "        for i in s:\n",
    "            sum = sum + roman_dict[i]\n",
    "        for i in special.keys():\n",
    "            if i in s:\n",
    "                sum = sum - (roman_dict[i[0]] + roman_dict[i[1]] - special[i])\n",
    "        \n",
    "        return sum"
   ]
  },
  {
   "cell_type": "code",
   "execution_count": null,
   "metadata": {},
   "outputs": [],
   "source": []
  },
  {
   "cell_type": "markdown",
   "metadata": {},
   "source": [
    "## 下面不把特殊字元存成字典，直接用邏輯去解\n",
    "\n",
    "Hint: 每種特殊字元最多出現一次，且特殊字元可以利用相加在相減，ex: 'I' = 1, 'V' = 5 , 'IV' = 'V' - 'I' (原本會是 'I' + 'V')"
   ]
  },
  {
   "cell_type": "code",
   "execution_count": null,
   "metadata": {},
   "outputs": [],
   "source": [
    "class Solution:\n",
    "    def romanToInt(self, s: str) -> int:\n",
    "            dic = {'I':1,'V':5,'X':10,'L':50,'C':100,'D':500,'M':1000}\n",
    "            sum = 0\n",
    "            prev_num = 0\n",
    "            '''字串從右到左(個位數到高位數)的方式判斷會較好'''\n",
    "            while(s):\n",
    "                curr_num = dic.get(s[-1])\n",
    "                if curr_num < prev_num:\n",
    "                    sum -= curr_num\n",
    "                else:     \n",
    "                    sum += curr_num\n",
    "                s=s[:-1]\n",
    "                prev_num = curr_num\n",
    "\n",
    "            return sum"
   ]
  }
 ],
 "metadata": {
  "kernelspec": {
   "display_name": "Python 3",
   "language": "python",
   "name": "python3"
  },
  "language_info": {
   "codemirror_mode": {
    "name": "ipython",
    "version": 3
   },
   "file_extension": ".py",
   "mimetype": "text/x-python",
   "name": "python",
   "nbconvert_exporter": "python",
   "pygments_lexer": "ipython3",
   "version": "3.7.3"
  }
 },
 "nbformat": 4,
 "nbformat_minor": 2
}
