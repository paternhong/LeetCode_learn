{
 "cells": [
  {
   "cell_type": "markdown",
   "metadata": {},
   "source": [
    "Given the root of a binary tree, the level of its root is 1, the level of its children is 2, and so on.\n",
    "\n",
    "Return the smallest level X such that the sum of all the values of nodes at level X is maximal.\n",
    "\n",
    " Example:\n",
    "\n",
    "![figure]( https://assets.leetcode.com/uploads/2019/05/03/capture.JPG)\n",
    "\n",
    "```\n",
    "Input: [1,7,0,7,-8,null,null]\n",
    "Output: 2\n",
    "Explanation: \n",
    "Level 1 sum = 1.\n",
    "Level 2 sum = 7 + 0 = 7.\n",
    "Level 3 sum = 7 + -8 = -1.\n",
    "So we return the level with the maximum sum which is level 2.\n",
    "```"
   ]
  },
  {
   "cell_type": "markdown",
   "metadata": {},
   "source": [
    "https://leetcode.com/problems/maximum-level-sum-of-a-binary-tree/"
   ]
  },
  {
   "cell_type": "markdown",
   "metadata": {},
   "source": [
    "## Answer 1"
   ]
  },
  {
   "cell_type": "markdown",
   "metadata": {},
   "source": [
    "```python\n",
    "# Definition for a binary tree node.\n",
    "# class TreeNode:\n",
    "#     def __init__(self, x):\n",
    "#         self.val = x\n",
    "#         self.left = None\n",
    "#         self.right = None\n",
    "\n",
    "class Solution:\n",
    "    def maxLevelSum(self, root: TreeNode) -> int:        \n",
    "        def findLevelmax(root, level):\n",
    "            if root == None:\n",
    "                return\n",
    "            if level > len(self.sum_list):\n",
    "                self.sum_list.append(root.val)  # 此層數尚未存在list內，因此需要 append 此層\n",
    "            else:\n",
    "                self.sum_list[level - 1] = self.sum_list[level - 1] + root.val  # 當層數值需增加，level會存在list的 level - 1 位置\n",
    "            findLevelmax(root.left, level + 1)\n",
    "            findLevelmax(root.right, level + 1)\n",
    "            return root\n",
    "        \n",
    "        self.sum_list = []\n",
    "        level = 1\n",
    "        findLevelmax(root, level)\n",
    "        \n",
    "        return self.sum_list.index(max(self.sum_list)) + 1\n",
    "```"
   ]
  },
  {
   "cell_type": "markdown",
   "metadata": {},
   "source": [
    "## Answer 2"
   ]
  },
  {
   "cell_type": "markdown",
   "metadata": {},
   "source": [
    "```python\n",
    "class Solution:\n",
    "    def maxLevelSum(self, root: TreeNode) -> int:\n",
    "        node_list = [root]\n",
    "        val_list = []\n",
    "             \n",
    "        while node_list != []:\n",
    "            curr_val = 0\n",
    "            ne_no_list = []\n",
    "            for node in node_list:\n",
    "                curr_val += node.val\n",
    "                \n",
    "                if node.right:\n",
    "                    ne_no_list.append(node.right)\n",
    "                if node.left:\n",
    "                    ne_no_list.append(node.left)\n",
    "                    \n",
    "            val_list.append(curr_val)\n",
    "            node_list = ne_no_list\n",
    "        \n",
    "        return val_list.index(max(val_list)) + 1\n",
    "```"
   ]
  },
  {
   "cell_type": "markdown",
   "metadata": {},
   "source": [
    "## Answer 3"
   ]
  },
  {
   "cell_type": "markdown",
   "metadata": {},
   "source": [
    "```python\n",
    "class Solution:\n",
    "    def maxLevelSum(self, root: TreeNode) -> int:\n",
    "        if root == None:\n",
    "            return\n",
    "        level, _max, _max_lv = 1, root.val, 1\n",
    "        node_list = [root]\n",
    "             \n",
    "        while node_list != []:\n",
    "            cur_val = 0\n",
    "            next_nodes = []\n",
    "            for node in node_list:\n",
    "                cur_val += node.val\n",
    "                if node.right:\n",
    "                    next_nodes.append(node.right)\n",
    "                if node.left:\n",
    "                    next_nodes.append(node.left)\n",
    "            \n",
    "            if cur_val > _max:\n",
    "                _max = cur_val\n",
    "                _max_lv = level\n",
    "            \n",
    "            level += 1\n",
    "            node_list = next_nodes  \n",
    "        \n",
    "        return _max_lv\n",
    "```"
   ]
  },
  {
   "cell_type": "code",
   "execution_count": null,
   "metadata": {},
   "outputs": [],
   "source": []
  },
  {
   "cell_type": "code",
   "execution_count": null,
   "metadata": {},
   "outputs": [],
   "source": []
  },
  {
   "cell_type": "code",
   "execution_count": null,
   "metadata": {},
   "outputs": [],
   "source": []
  },
  {
   "cell_type": "code",
   "execution_count": null,
   "metadata": {},
   "outputs": [],
   "source": []
  },
  {
   "cell_type": "code",
   "execution_count": null,
   "metadata": {},
   "outputs": [],
   "source": []
  }
 ],
 "metadata": {
  "kernelspec": {
   "display_name": "Python 3",
   "language": "python",
   "name": "python3"
  },
  "language_info": {
   "codemirror_mode": {
    "name": "ipython",
    "version": 3
   },
   "file_extension": ".py",
   "mimetype": "text/x-python",
   "name": "python",
   "nbconvert_exporter": "python",
   "pygments_lexer": "ipython3",
   "version": "3.7.3"
  }
 },
 "nbformat": 4,
 "nbformat_minor": 2
}
