{
 "cells": [
  {
   "cell_type": "markdown",
   "metadata": {},
   "source": [
    "We are given an array A of N lowercase letter strings, all of the same length.  \n",
    "Now, we may choose any set of deletion indices, and for each string, we delete all the characters in those indices.\n",
    "  \n",
    "For example, if we have an array A = <font color=green>[\"abcdef\",\"uvwxyz\"]</font> and deletion indices {0, 2, 3}, then the final array after deletions is <font color=green>[\"bef\", \"vyz\"]</font>, and the remaining columns of A are <font color=green>[\"b\",\"v\"]</font>, <font color=green>[\"e\",\"y\"]</font>, and <font color=green>[\"f\",\"z\"]</font>.  (Formally, the c-th column is [A[0][c], A[1][c], ..., A[A.length-1][c]].)\n",
    "\n",
    "Suppose we chose a set of deletion indices D such that after deletions, each remaining column in A is in non-decreasing sorted order.\n",
    "\n",
    "Return the minimum possible value of D.length.\n",
    "```python\n",
    "Example 1:\n",
    "\n",
    "Input: [\"cba\",\"daf\",\"ghi\"]\n",
    "Output: 1\n",
    "Explanation: \n",
    "After choosing D = {1}, each column [\"c\",\"d\",\"g\"] and [\"a\",\"f\",\"i\"] are in non-decreasing sorted order.\n",
    "If we chose D = {}, then a column [\"b\",\"a\",\"h\"] would not be in non-decreasing sorted order.\n",
    "Example 2:\n",
    "\n",
    "Input: [\"a\",\"b\"]\n",
    "Output: 0\n",
    "Explanation: D = {}\n",
    "Example 3:\n",
    "\n",
    "Input: [\"zyx\",\"wvu\",\"tsr\"]\n",
    "Output: 3\n",
    "Explanation: D = {0, 1, 2}\n",
    "``` \n",
    "\n",
    "Note:  \n",
    "1 <= A.length <= 100  \n",
    "1 <= A[i].length <= 1000"
   ]
  },
  {
   "cell_type": "markdown",
   "metadata": {},
   "source": [
    "https://leetcode.com/problems/delete-columns-to-make-sorted/"
   ]
  },
  {
   "cell_type": "markdown",
   "metadata": {},
   "source": [
    "## Answer 1"
   ]
  },
  {
   "cell_type": "markdown",
   "metadata": {},
   "source": [
    "```python\n",
    "class Solution:\n",
    "    def minDeletionSize(self, A: List[str]) -> int:\n",
    "        A_len = len(A)\n",
    "        S_len = len(A[0])\n",
    "        # 建立空集合\n",
    "        D = set()\n",
    "        # 行數\n",
    "        for col in range(S_len):\n",
    "            for row in range(1, A_len):\n",
    "                # 有比前一個小的數，則代表此行不符合non-decreasing(代表要移除)\n",
    "                if ord(A[row][col]) < ord(A[row - 1][col]):\n",
    "                    D.add(col)\n",
    "                    break\n",
    "                    \n",
    "        return len(D)\n",
    "```"
   ]
  },
  {
   "cell_type": "markdown",
   "metadata": {},
   "source": [
    "## Answer 2 \n",
    "(Use python Zip(*A) and sorted() functions)"
   ]
  },
  {
   "cell_type": "markdown",
   "metadata": {},
   "source": [
    "```python\n",
    "class Solution:\n",
    "    def minDeletionSize(self, A: List[str]) -> int:\n",
    "        ans = 0\n",
    "        # 利用zip(*A)取得A的每一行\n",
    "        for col in zip(*A):\n",
    "            # 未sort和sorted後不同，代表“不符合”non-decreasing (要拿掉)\n",
    "            if list(col) != sorted(col):\n",
    "                ans += 1\n",
    "        return ans\n",
    "```"
   ]
  },
  {
   "cell_type": "markdown",
   "metadata": {},
   "source": []
  },
  {
   "cell_type": "markdown",
   "metadata": {},
   "source": []
  }
 ],
 "metadata": {
  "kernelspec": {
   "display_name": "Python 3",
   "language": "python",
   "name": "python3"
  },
  "language_info": {
   "codemirror_mode": {
    "name": "ipython",
    "version": 3
   },
   "file_extension": ".py",
   "mimetype": "text/x-python",
   "name": "python",
   "nbconvert_exporter": "python",
   "pygments_lexer": "ipython3",
   "version": "3.7.3"
  }
 },
 "nbformat": 4,
 "nbformat_minor": 2
}
