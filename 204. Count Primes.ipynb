{
 "cells": [
  {
   "cell_type": "markdown",
   "metadata": {},
   "source": [
    "204. Count Primes\n",
    "\n",
    "Count the number of prime numbers less than a non-negative number, n.\n",
    "\n",
    "Example:\n",
    "\n",
    "Input: 10\n",
    "Output: 4\n",
    "Explanation: There are 4 prime numbers less than 10, they are 2, 3, 5, 7."
   ]
  },
  {
   "cell_type": "markdown",
   "metadata": {},
   "source": [
    "https://leetcode.com/problems/count-primes/submissions/"
   ]
  },
  {
   "cell_type": "code",
   "execution_count": 3,
   "metadata": {},
   "outputs": [],
   "source": [
    "import math"
   ]
  },
  {
   "cell_type": "markdown",
   "metadata": {},
   "source": [
    "```python\n",
    "import math\n",
    "\n",
    "class Solution:\n",
    "    import math\n",
    "    def countPrimes(self, n: int) -> int:\n",
    "        if n <= 2:\n",
    "            return 0\n",
    "        else:\n",
    "            list_ = [i for i in range(n)]\n",
    "            list_[0] = 0\n",
    "            list_[1] = 0\n",
    "            # 不能被小於 '本身開根號' 的所有數除盡的才會是質數\n",
    "            edge = int(math.sqrt(n)) + 1\n",
    "            for i in range(edge):\n",
    "                if list_[i] != 0:\n",
    "                    # 不能把1倍移除，所以從2開始\n",
    "                    mul = 2\n",
    "                    while i * mul < len(list_):\n",
    "                        list_[i * mul] = 0\n",
    "                        mul += 1\n",
    "            return len(list_) - list_.count(0)\n",
    "```"
   ]
  },
  {
   "cell_type": "code",
   "execution_count": null,
   "metadata": {},
   "outputs": [],
   "source": []
  },
  {
   "cell_type": "markdown",
   "metadata": {},
   "source": [
    "給定大於等於1的整數，求出小於等於此數的最大質數"
   ]
  },
  {
   "cell_type": "markdown",
   "metadata": {},
   "source": [
    "更改過的方法，先產出全部的list，然後依序把n開根號以內的數乘上倍數慢慢消\n",
    "https://zh.wikipedia.org/wiki/埃拉托斯特尼筛法"
   ]
  },
  {
   "cell_type": "code",
   "execution_count": 4,
   "metadata": {},
   "outputs": [],
   "source": [
    "def max_prime(n):\n",
    "        if n <= 1:\n",
    "            return 0\n",
    "        else:\n",
    "            list_ = [i for i in range(n + 1)]\n",
    "            list_[0] = 0\n",
    "            list_[1] = 0\n",
    "            edge = int(math.sqrt(n)) + 1\n",
    "            for i in range(edge):\n",
    "                if list_[i] != 0:\n",
    "                    # 最初的寫法是使用while，但是觀看別人的寫法發現可以用for 加上 range(初值, 末值, 壘加)來代表倍關係\n",
    "                    # 像是2x1, 2x2...2xn可以用range(2, 2xn, 2)。 ax1, ax2...axn >> range(a, an, a)\n",
    "                    for j in range(i + i, len(list_), i):\n",
    "                        list_[j] = 0\n",
    "            return max(list_)"
   ]
  },
  {
   "cell_type": "code",
   "execution_count": 12,
   "metadata": {
    "scrolled": true
   },
   "outputs": [
    {
     "data": {
      "text/plain": [
       "7"
      ]
     },
     "execution_count": 12,
     "metadata": {},
     "output_type": "execute_result"
    }
   ],
   "source": [
    "max_prime(7)"
   ]
  },
  {
   "cell_type": "markdown",
   "metadata": {},
   "source": [
    "不用乘、除、%的寫法"
   ]
  },
  {
   "cell_type": "code",
   "execution_count": 13,
   "metadata": {},
   "outputs": [],
   "source": [
    "def max_prime(n):\n",
    "        if n <= 1:\n",
    "            return 0\n",
    "        else:\n",
    "            list_ = [i for i in range(n + 1)]\n",
    "            list_[0] = 0\n",
    "            list_[1] = 0\n",
    "            edge = int(math.sqrt(n)) + 1\n",
    "            for i in range(edge):\n",
    "                if list_[i] != 0:\n",
    "                    for j in range(i + i, len(list_), i):\n",
    "                        list_[j] = 0\n",
    "            return max(list_)"
   ]
  },
  {
   "cell_type": "code",
   "execution_count": 21,
   "metadata": {},
   "outputs": [
    {
     "data": {
      "text/plain": [
       "999983"
      ]
     },
     "execution_count": 21,
     "metadata": {},
     "output_type": "execute_result"
    }
   ],
   "source": [
    "max_prime(1000000)"
   ]
  },
  {
   "cell_type": "code",
   "execution_count": null,
   "metadata": {},
   "outputs": [],
   "source": [
    "以下為一開始嘗試的方法，用判斷是否為質數然後丟進list的方式，效率較差"
   ]
  },
  {
   "cell_type": "code",
   "execution_count": 20,
   "metadata": {},
   "outputs": [],
   "source": [
    "import math\n",
    "def max_prime(n):\n",
    "    if n <= 0:\n",
    "        print('Please enter int > 0')\n",
    "    elif 1 <= n <= 2:\n",
    "        return n\n",
    "    else:\n",
    "        prime_list = [2]\n",
    "        for i in range(3, n + 1, 2):\n",
    "            for j in prime_list:\n",
    "                if j > math.sqrt(i):\n",
    "                    prime_list.append(i)\n",
    "                    break\n",
    "                if i % j == 0:\n",
    "                    break\n",
    "        return max(prime_list)"
   ]
  },
  {
   "cell_type": "code",
   "execution_count": 30,
   "metadata": {},
   "outputs": [
    {
     "data": {
      "text/plain": [
       "999983"
      ]
     },
     "execution_count": 30,
     "metadata": {},
     "output_type": "execute_result"
    }
   ],
   "source": [
    "max_prime(999987)"
   ]
  },
  {
   "cell_type": "code",
   "execution_count": 88,
   "metadata": {},
   "outputs": [],
   "source": [
    "def max_prime_2(n):\n",
    "    if n <= 0:\n",
    "        print('Please enter int > 0')\n",
    "    elif n == 1:\n",
    "        return n\n",
    "    else:\n",
    "        total = [ i for i in range(1, n + 1)]\n",
    "        loc = 1\n",
    "        while loc < len(total):\n",
    "            div = total[loc]\n",
    "            temp = div\n",
    "            while temp <= n:\n",
    "                temp += div\n",
    "                if temp in total:\n",
    "                    total.remove(temp)\n",
    "            loc += 1\n",
    "        return max(total)\n",
    "            "
   ]
  },
  {
   "cell_type": "code",
   "execution_count": 92,
   "metadata": {},
   "outputs": [
    {
     "data": {
      "text/plain": [
       "9973"
      ]
     },
     "execution_count": 92,
     "metadata": {},
     "output_type": "execute_result"
    }
   ],
   "source": [
    "max_prime_2(9987)"
   ]
  },
  {
   "cell_type": "code",
   "execution_count": 93,
   "metadata": {},
   "outputs": [],
   "source": [
    "import math"
   ]
  },
  {
   "cell_type": "code",
   "execution_count": null,
   "metadata": {},
   "outputs": [],
   "source": []
  }
 ],
 "metadata": {
  "kernelspec": {
   "display_name": "Python 3",
   "language": "python",
   "name": "python3"
  },
  "language_info": {
   "codemirror_mode": {
    "name": "ipython",
    "version": 3
   },
   "file_extension": ".py",
   "mimetype": "text/x-python",
   "name": "python",
   "nbconvert_exporter": "python",
   "pygments_lexer": "ipython3",
   "version": "3.7.3"
  }
 },
 "nbformat": 4,
 "nbformat_minor": 2
}
