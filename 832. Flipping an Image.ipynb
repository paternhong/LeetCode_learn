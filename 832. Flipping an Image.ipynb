{
 "cells": [
  {
   "cell_type": "markdown",
   "metadata": {},
   "source": [
    "832. Flipping an Image\n",
    "\n",
    "https://leetcode.com/problems/flipping-an-image/"
   ]
  },
  {
   "cell_type": "markdown",
   "metadata": {},
   "source": [
    "Given a binary matrix A, we want to flip the image horizontally, then invert it, and return the resulting image.  \n",
    "To flip an image horizontally means that each row of the image is reversed.  For example, flipping [1, 1, 0] horizontally results in [0, 1, 1].  \n",
    "To invert an image means that each 0 is replaced by 1, and each 1 is replaced by 0. For example, inverting [0, 1, 1] results in [1, 0, 0]."
   ]
  },
  {
   "cell_type": "markdown",
   "metadata": {},
   "source": [
    "Example 1:\n",
    "\n",
    "Input: [[1,1,0],[1,0,1],[0,0,0]]  \n",
    "Output: [[1,0,0],[0,1,0],[1,1,1]]  \n",
    "Explanation: First reverse each row: [[0,1,1],[1,0,1],[0,0,0]].  \n",
    "Then, invert the image: [[1,0,0],[0,1,0],[1,1,1]]"
   ]
  },
  {
   "cell_type": "code",
   "execution_count": 27,
   "metadata": {},
   "outputs": [],
   "source": [
    "class Solution:\n",
    "    def flipAndInvertImage(self, A: List[List[int]]) -> List[List[int]]:\n",
    "        row = len(A)\n",
    "        col = len(A[0])\n",
    "        # if use the method ans = [[0] * col] * col'will have problem, please refr to the link below\n",
    "        # https://blog.csdn.net/cyjmosthandsome/article/details/80158898\n",
    "        '''\n",
    "        if use col = [0]*5\n",
    "        '''\n",
    "        ans = [[0] * col for i in range(row)]\n",
    "        for i in range(row):\n",
    "            for j in range(col):\n",
    "                if A[i][j] == 0:\n",
    "                    ans[i][(col - 1) - j] = 1\n",
    "                # 同上面的註解\n",
    "        return ans\n",
    "    \n",
    "    "
   ]
  },
  {
   "cell_type": "markdown",
   "metadata": {},
   "source": [
    "其他解法!! 因為需要水平互換之後再把1和0互換，因此若某位置的值和他要換的位置的值  \n",
    "1. 相同  \n",
    "   a. 都是1，則直接把兩者都變成0  \n",
    "   b. 都是0，則直接把兩者都變成1  \n",
    "2. 不同 - 則不用變動  \n",
    "ex.  \n",
    "A[i][j] = 0, A[i][(col - 1) - j] = 1  \n",
    "互換\n",
    "A[i][j] = 1, A[i][(col - 1) - j] = 0  \n",
    "再把0和1互換  \n",
    "A[i][j] = 0, A[i][(col - 1) - j] = 1  <<<變成和原本一樣"
   ]
  },
  {
   "cell_type": "code",
   "execution_count": 29,
   "metadata": {},
   "outputs": [],
   "source": [
    "class Solution:\n",
    "    def flipAndInvertImage(self, A: List[List[int]]) -> List[List[int]]:\n",
    "        row = len(A)\n",
    "        col = len(A[0])\n",
    "        for i in range(row):\n",
    "            for j in range((col + 1) // 2):\n",
    "                if A[i][j] == A[i][(col - 1) - j]:\n",
    "                    if A[i][j] == 1:\n",
    "                        A[i][j] = 0\n",
    "                        A[i][(col - 1) - j] = 0\n",
    "                    else:\n",
    "                        A[i][j] = 1\n",
    "                        A[i][(col - 1) - j] = 1\n",
    "                # 不相等的話，互換之後要再0,1互換一次，就變成跟原本一樣\n",
    "        \n",
    "        return A\n",
    "    "
   ]
  },
  {
   "cell_type": "code",
   "execution_count": 31,
   "metadata": {},
   "outputs": [
    {
     "name": "stdout",
     "output_type": "stream",
     "text": [
      "[[1, 1, 0], [1, 0, 1], [0, 0, 0]]\n",
      "[[1, 1, 0], [0, 0, 0], [0, 0, 0]]\n",
      "[[1, 1, 0], [0, 0, 0], [1, 0, 1]]\n"
     ]
    },
    {
     "data": {
      "text/plain": [
       "[[1, 1, 0], [0, 0, 0], [1, 0, 1]]"
      ]
     },
     "execution_count": 31,
     "metadata": {},
     "output_type": "execute_result"
    }
   ],
   "source": [
    "flip([[1,1,0],[1,0,1],[0,0,0]])"
   ]
  }
 ],
 "metadata": {
  "kernelspec": {
   "display_name": "Python 3",
   "language": "python",
   "name": "python3"
  },
  "language_info": {
   "codemirror_mode": {
    "name": "ipython",
    "version": 3
   },
   "file_extension": ".py",
   "mimetype": "text/x-python",
   "name": "python",
   "nbconvert_exporter": "python",
   "pygments_lexer": "ipython3",
   "version": "3.7.3"
  }
 },
 "nbformat": 4,
 "nbformat_minor": 2
}
