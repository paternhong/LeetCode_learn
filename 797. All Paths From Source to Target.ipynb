{
 "cells": [
  {
   "cell_type": "markdown",
   "metadata": {},
   "source": [
    "Given a directed, acyclic graph of N nodes.  Find all possible paths from node 0 to node N-1, and return them in any order.  \n",
    "The graph is given as follows:  the nodes are 0, 1, ..., graph.length - 1.  graph[i] is a list of all nodes j for which the edge (i, j) exists.\n",
    "\n",
    "Example:\n",
    "```python\n",
    "Input: [[1,2], [3], [3], []] \n",
    "Output: [[0,1,3],[0,2,3]] \n",
    "Explanation: The graph looks like this:\n",
    "0--->1\n",
    "|    |\n",
    "v    v\n",
    "2--->3\n",
    "There are two paths: 0 -> 1 -> 3 and 0 -> 2 -> 3.\n",
    "```\n",
    "Note:  \n",
    "1. The number of nodes in the graph will be in the range [2, 15].  \n",
    "2. You can print different paths in any order, but you should keep the order of nodes inside one path."
   ]
  },
  {
   "cell_type": "markdown",
   "metadata": {},
   "source": [
    "https://leetcode.com/problems/all-paths-from-source-to-target/"
   ]
  },
  {
   "cell_type": "markdown",
   "metadata": {},
   "source": [
    "## Answer 1"
   ]
  },
  {
   "cell_type": "markdown",
   "metadata": {},
   "source": [
    "```python\n",
    "class Solution:\n",
    "    def allPathsSourceTarget(self, graph: List[List[int]]) -> List[List[int]]:\n",
    "        # initial the start list\n",
    "        ans = [[0]]\n",
    "            \n",
    "        # follow the rule to create layer by layer (最後一層不需要再做，最後一層只能對應到自己)\n",
    "        for _index in range(len(graph) - 1):\n",
    "            temp = []\n",
    "            # ans裡面的子list滿足條件的則產生連結\n",
    "            for ans_list in ans:\n",
    "                if ans_list[-1] == _index:\n",
    "                    # 產生滿足條件的list\n",
    "                    for sub_index in range(len(graph[_index])):\n",
    "                        if graph[_index][sub_index] > ans_list[-1]:\n",
    "                            temp.append(ans_list + [graph[_index][sub_index]])\n",
    "                # 把未更新&擴展的ans_list的加到temp內\n",
    "                else:\n",
    "                    temp.append(ans_list)\n",
    "            ans = temp\n",
    "            \n",
    "        final_ans = []\n",
    "        for _list in ans:\n",
    "            # ans內的list開頭一定是0，所以不用判斷_list[0] == 0\n",
    "            if _list[-1] == len(graph) - 1:\n",
    "                final_ans.append(_list)\n",
    "        \n",
    "        return final_ans\n",
    "```"
   ]
  },
  {
   "cell_type": "code",
   "execution_count": null,
   "metadata": {},
   "outputs": [],
   "source": []
  },
  {
   "cell_type": "code",
   "execution_count": null,
   "metadata": {},
   "outputs": [],
   "source": []
  }
 ],
 "metadata": {
  "kernelspec": {
   "display_name": "Python 3",
   "language": "python",
   "name": "python3"
  },
  "language_info": {
   "codemirror_mode": {
    "name": "ipython",
    "version": 3
   },
   "file_extension": ".py",
   "mimetype": "text/x-python",
   "name": "python",
   "nbconvert_exporter": "python",
   "pygments_lexer": "ipython3",
   "version": "3.7.3"
  }
 },
 "nbformat": 4,
 "nbformat_minor": 2
}
