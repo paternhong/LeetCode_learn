{
 "cells": [
  {
   "cell_type": "markdown",
   "metadata": {},
   "source": [
    "The Hamming distance between two integers is the number of positions at which the corresponding bits are different.  \n",
    "Given two integers x and y, calculate the Hamming distance.\n",
    "\n",
    "Note:  \n",
    "0 ≤ x, y < 231.\n",
    "\n",
    "Example:\n",
    "```python\n",
    "Input: x = 1, y = 4\n",
    "Output: 2\n",
    "\n",
    "Explanation:\n",
    "1   (0 0 0 1)\n",
    "4   (0 1 0 0)\n",
    "       ↑   ↑\n",
    "```\n",
    "The above arrows point to positions where the corresponding bits are different."
   ]
  },
  {
   "cell_type": "markdown",
   "metadata": {},
   "source": [
    "https://leetcode.com/problems/hamming-distance/"
   ]
  },
  {
   "cell_type": "markdown",
   "metadata": {},
   "source": [
    "## Answer 1"
   ]
  },
  {
   "cell_type": "markdown",
   "metadata": {},
   "source": [
    "```python\n",
    "class Solution:\n",
    "    def hammingDistance(self, x: int, y: int) -> int:\n",
    "        count = 0\n",
    "        if x >= y:\n",
    "            while x > 0:\n",
    "                if x % 2 != y % 2:\n",
    "                    count += 1\n",
    "                x = x//2\n",
    "                y = y//2\n",
    "        else:\n",
    "            while y > 0:\n",
    "                if x % 2 != y % 2:\n",
    "                    count += 1\n",
    "                x = x//2\n",
    "                y = y//2\n",
    "        return count\n",
    "```"
   ]
  },
  {
   "cell_type": "code",
   "execution_count": null,
   "metadata": {},
   "outputs": [],
   "source": []
  }
 ],
 "metadata": {
  "kernelspec": {
   "display_name": "Python 3",
   "language": "python",
   "name": "python3"
  },
  "language_info": {
   "codemirror_mode": {
    "name": "ipython",
    "version": 3
   },
   "file_extension": ".py",
   "mimetype": "text/x-python",
   "name": "python",
   "nbconvert_exporter": "python",
   "pygments_lexer": "ipython3",
   "version": "3.7.3"
  }
 },
 "nbformat": 4,
 "nbformat_minor": 2
}
