{
 "cells": [
  {
   "cell_type": "markdown",
   "metadata": {},
   "source": [
    "## 70. Climbing Stairs\n",
    "\n",
    "link: https://leetcode.com/problems/climbing-stairs/"
   ]
  },
  {
   "cell_type": "markdown",
   "metadata": {},
   "source": [
    "You are climbing a stair case. It takes n steps to reach to the top.\n",
    "\n",
    "Each time you can either climb 1 or 2 steps. In how many distinct ways can you climb to the top?\n",
    "\n",
    "Note: Given n will be a positive integer.\n",
    "\n",
    "Example 1:\n",
    "\n",
    "Input: 2\n",
    "Output: 2\n",
    "Explanation: There are two ways to climb to the top.\n",
    "1. 1 step + 1 step\n",
    "2. 2 steps\n",
    "Example 2:\n",
    "\n",
    "Input: 3\n",
    "Output: 3\n",
    "Explanation: There are three ways to climb to the top.\n",
    "1. 1 step + 1 step + 1 step\n",
    "2. 1 step + 2 steps\n",
    "3. 2 steps + 1 step"
   ]
  },
  {
   "cell_type": "markdown",
   "metadata": {},
   "source": [
    "Hint: 此題基本上為Fibonacci number.\n",
    "\n",
    "思考方式：\n",
    "\n",
    "1. 只有一階的情況則只有：1步, 一種\n",
    "\n",
    "2. 只有兩階的情況：1步＋1步, 2步, 兩種\n",
    "\n",
    "> n 階的情況，先不管前面如何走！！但最後一步只會有“兩種方法”，一次走兩階或是一次走一階，也就是說走到第n階相當於：\n",
    "\n",
    "f(n-2)  <<< 最後一步是走兩階的方法數\n",
    "\n",
    "f(n-1) <<< 最後一步是走一階的方法數\n",
    "\n",
    "兩者的合，也就是說： 走到地n階的方法數 f(n) = f(n - 2) + f(n - 1)"
   ]
  },
  {
   "cell_type": "code",
   "execution_count": 1,
   "metadata": {},
   "outputs": [],
   "source": [
    "# Iteration\n",
    "\n",
    "class Solution:\n",
    "    def climbStairs(self, n: int) -> int:\n",
    "        if n == 1:\n",
    "            return 1\n",
    "        elif n == 2:\n",
    "            return 2\n",
    "        f, s, temp = 1, 2, 0\n",
    "        for i in range(n - 2):\n",
    "            temp = f + s\n",
    "            f = s\n",
    "            s = temp\n",
    "        return temp"
   ]
  },
  {
   "cell_type": "code",
   "execution_count": 1,
   "metadata": {},
   "outputs": [],
   "source": [
    "# Recursion\n",
    "\n",
    "class Solution:\n",
    "    def climbStairs(self, n: int) -> int:\n",
    "        if n == 1:\n",
    "            return 1\n",
    "        elif n == 2:\n",
    "            return 2\n",
    "        else:\n",
    "            return self.climbStairs(n-1) + self.climbStairs(n-2)\n",
    "        \n",
    "# 此種方式在此題會花費大量的時間"
   ]
  },
  {
   "cell_type": "code",
   "execution_count": 2,
   "metadata": {},
   "outputs": [],
   "source": [
    "# Dynamic Programming\n",
    "\n",
    "class Solution:\n",
    "    def climbStairs(self, n: int) -> int:\n",
    "        dp = [0]\n",
    "        dp.append(1)\n",
    "        dp.append(2)\n",
    "        if n > 2:\n",
    "            for i in range(3, n + 1):\n",
    "                dp.append(dp[i - 2] + dp[i -1])\n",
    "        \n",
    "        return dp[n]"
   ]
  }
 ],
 "metadata": {
  "kernelspec": {
   "display_name": "Python 3",
   "language": "python",
   "name": "python3"
  },
  "language_info": {
   "codemirror_mode": {
    "name": "ipython",
    "version": 3
   },
   "file_extension": ".py",
   "mimetype": "text/x-python",
   "name": "python",
   "nbconvert_exporter": "python",
   "pygments_lexer": "ipython3",
   "version": "3.7.3"
  }
 },
 "nbformat": 4,
 "nbformat_minor": 2
}
