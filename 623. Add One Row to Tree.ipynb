{
 "cells": [
  {
   "cell_type": "markdown",
   "metadata": {},
   "source": [
    "623. Add One Row to Tree\n",
    "\n",
    "https://leetcode.com/problems/add-one-row-to-tree/"
   ]
  },
  {
   "cell_type": "markdown",
   "metadata": {},
   "source": [
    "Given the root of a binary tree, then value v and depth d, you need to add a row of nodes with value v at the given depth d. The root node is at depth 1.\n",
    "\n",
    "The adding rule is: given a positive integer depth d, for each NOT null tree nodes N in depth d-1, create two tree nodes with value v as N's left subtree root and right subtree root. And N's original left subtree should be the left subtree of the new left subtree root, its original right subtree should be the right subtree of the new right subtree root. If depth d is 1 that means there is no depth d-1 at all, then create a tree node with value v as the new root of the whole original tree, and the original tree is the new root's left subtree."
   ]
  },
  {
   "cell_type": "markdown",
   "metadata": {},
   "source": [
    "Input: \n",
    "A binary tree as following:\n",
    "       4\n",
    "     /   \\\n",
    "    2     6\n",
    "   / \\   / \n",
    "  3   1 5   \n",
    "\n",
    "v = 1\n",
    "\n",
    "d = 2\n",
    "\n",
    "Output: \n",
    "       4\n",
    "      / \\\n",
    "     1   1\n",
    "    /     \\\n",
    "   2       6\n",
    "  / \\     / \n",
    " 3   1   5   "
   ]
  },
  {
   "cell_type": "code",
   "execution_count": null,
   "metadata": {},
   "outputs": [],
   "source": [
    "# 要考慮root, 直接加到最後none位置的情況"
   ]
  },
  {
   "cell_type": "code",
   "execution_count": null,
   "metadata": {},
   "outputs": [],
   "source": [
    "# Definition for a binary tree node.\n",
    "# class TreeNode:\n",
    "#     def __init__(self, x):\n",
    "#         self.val = x\n",
    "#         self.left = None\n",
    "#         self.right = None\n",
    "\n",
    "class Solution:\n",
    "    def addOneRow(self, root: TreeNode, v: int, d: int) -> TreeNode:\n",
    "        def in_func(Node, v, d, curr_depth):\n",
    "            if Node is None:\n",
    "                return None\n",
    "            if d == 1:\n",
    "                new_node = TreeNode(v)\n",
    "                new_node.left = Node\n",
    "                return new_node\n",
    "            elif curr_depth == d - 1:\n",
    "                # if Node.left is None, then equal to add a leaf\n",
    "                temp_l = Node.left\n",
    "                temp_r = Node.right\n",
    "                Node.left = TreeNode(v)\n",
    "                Node.right = TreeNode(v)\n",
    "                Node.left.left = temp_l\n",
    "                Node.right.right = temp_r\n",
    "            else:\n",
    "                in_func(Node.left, v, d, curr_depth + 1)\n",
    "                in_func(Node.right, v, d, curr_depth + 1)\n",
    "            return Node\n",
    "        \n",
    "        return in_func(root, v, d, 1)"
   ]
  }
 ],
 "metadata": {
  "kernelspec": {
   "display_name": "Python 3",
   "language": "python",
   "name": "python3"
  },
  "language_info": {
   "codemirror_mode": {
    "name": "ipython",
    "version": 3
   },
   "file_extension": ".py",
   "mimetype": "text/x-python",
   "name": "python",
   "nbconvert_exporter": "python",
   "pygments_lexer": "ipython3",
   "version": "3.7.3"
  }
 },
 "nbformat": 4,
 "nbformat_minor": 2
}
