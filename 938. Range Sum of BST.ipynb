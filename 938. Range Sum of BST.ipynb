{
 "cells": [
  {
   "cell_type": "markdown",
   "metadata": {},
   "source": [
    "Given the root node of a binary search tree, return the sum of values of all nodes with value between L and R (inclusive).\n",
    "\n",
    "The binary search tree is guaranteed to have unique values.\n",
    " \n",
    "```python\n",
    "Example 1:\n",
    "\n",
    "Input: root = [10,5,15,3,7,null,18], L = 7, R = 15\n",
    "Output: 32\n",
    "Example 2:\n",
    "\n",
    "Input: root = [10,5,15,3,7,13,18,1,null,6], L = 6, R = 10\n",
    "Output: 23\n",
    " \n",
    "\n",
    "Note:\n",
    "\n",
    "The number of nodes in the tree is at most 10000.\n",
    "The final answer is guaranteed to be less than 2^31.\n",
    "```"
   ]
  },
  {
   "cell_type": "markdown",
   "metadata": {},
   "source": [
    "https://leetcode.com/problems/range-sum-of-bst/"
   ]
  },
  {
   "cell_type": "markdown",
   "metadata": {},
   "source": [
    "```python\n",
    "# Definition for a binary tree node.\n",
    "# class TreeNode:\n",
    "#     def __init__(self, x):\n",
    "#         self.val = x\n",
    "#         self.left = None\n",
    "#         self.right = None\n",
    "\n",
    "class Solution:\n",
    "    def rangeSumBST(self, root: TreeNode, L: int, R: int) -> int:    \n",
    "        if root is None:\n",
    "            return 0\n",
    "        if root.val < L:\n",
    "            return self.rangeSumBST(root.right, L, R)\n",
    "        elif root.val > R:\n",
    "            return self.rangeSumBST(root.left, L, R)\n",
    "        \n",
    "        return root.val + self.rangeSumBST(root.right, L, R) + self.rangeSumBST(root.left, L, R)\n",
    "```"
   ]
  }
 ],
 "metadata": {
  "kernelspec": {
   "display_name": "Python 3",
   "language": "python",
   "name": "python3"
  },
  "language_info": {
   "codemirror_mode": {
    "name": "ipython",
    "version": 3
   },
   "file_extension": ".py",
   "mimetype": "text/x-python",
   "name": "python",
   "nbconvert_exporter": "python",
   "pygments_lexer": "ipython3",
   "version": "3.7.3"
  }
 },
 "nbformat": 4,
 "nbformat_minor": 2
}
