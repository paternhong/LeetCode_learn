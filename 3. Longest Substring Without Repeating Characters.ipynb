{
 "cells": [
  {
   "cell_type": "markdown",
   "metadata": {},
   "source": [
    "## 3. Longest Substring Without Repeating Characters\n",
    "\n",
    "https://leetcode.com/problems/longest-substring-without-repeating-characters/"
   ]
  },
  {
   "cell_type": "markdown",
   "metadata": {},
   "source": [
    "Given a string, find the length of the longest substring without repeating characters.\n",
    "\n",
    "Example 1:\n",
    "\n",
    "Input: \"abcabcbb\"\n",
    "Output: 3 \n",
    "Explanation: The answer is \"abc\", with the length of 3. \n",
    "Example 2:\n",
    "\n",
    "Input: \"bbbbb\"\n",
    "Output: 1\n",
    "Explanation: The answer is \"b\", with the length of 1.\n",
    "Example 3:\n",
    "\n",
    "Input: \"pwwkew\"\n",
    "Output: 3\n",
    "Explanation: The answer is \"wke\", with the length of 3. \n",
    "             Note that the answer must be a substring, \"pwke\" is a subsequence and not a substring."
   ]
  },
  {
   "cell_type": "code",
   "execution_count": null,
   "metadata": {},
   "outputs": [],
   "source": [
    "# 此種方法會重複許多次，造成極差的時間複雜度\n",
    "\n",
    "class Solution:\n",
    "    def lengthOfLongestSubstring(self, s: str) -> int:\n",
    "        # repeating using the str may take too much memory\n",
    "        max_list = []\n",
    "        for i in range(len(s)): # 0~(len(s)-1)\n",
    "            temp = []\n",
    "            j = i\n",
    "            while j < len(s) and s[j] not in temp:  # The prioritp will affect result\n",
    "                temp.append(s[j])\n",
    "                j += 1\n",
    "            # len(temp) = len(s)為考慮到全部沒有重複的情況\n",
    "            if len(temp) > len(max_list) or len(temp) == len(s):\n",
    "                max_list = temp\n",
    "        max_len = len(max_list)           \n",
    "            \n",
    "        return max_len"
   ]
  },
  {
   "cell_type": "code",
   "execution_count": 14,
   "metadata": {},
   "outputs": [],
   "source": [
    "# 此方法為上面方法的優化，但是時間複雜度依然普通\n",
    "class Solution:\n",
    "    def lengthOfLongestSubstring(self, s: str) -> int:\n",
    "        dict_ = {}\n",
    "        max_len = 0\n",
    "        # h, t = head & tail\n",
    "        h = 0\n",
    "        t = 0\n",
    "        while h < len(s) and t < len(s):\n",
    "            if s[t] not in dict_:\n",
    "                dict_[s[t]] = t\n",
    "            else:\n",
    "                if dict_[s[t]] < h:\n",
    "                    dict_[s[t]] = t\n",
    "                else:\n",
    "                    # The max_need to update only if new length > max_len\n",
    "                    if t - h >= max_len:\n",
    "                        max_len = t - h\n",
    "                    h = dict_[s[t]] + 1\n",
    "                    # Old same value need to update location\n",
    "                    dict_[s[t]] = t \n",
    "            t += 1\n",
    "            \n",
    "        # The moment, t value will equal to len(s)\n",
    "        if t - h > max_len:\n",
    "            max_len = t - h\n",
    "            \n",
    "        return max_len"
   ]
  },
  {
   "cell_type": "code",
   "execution_count": 15,
   "metadata": {},
   "outputs": [],
   "source": [
    "# 此種為上面方法改用for的寫法\n",
    "\n",
    "class Solution:\n",
    "    def lengthOfLongestSubstring(self, s: str) -> int:\n",
    "        dict_ = {}\n",
    "        max_len, curr_len = 0, 0\n",
    "        # h, t = head & tail\n",
    "        h = 0\n",
    "        # Let i be tail\n",
    "        for i in range(len(s)):\n",
    "            if s[i] in dict_:\n",
    "                if dict_[s[i]] >= h:\n",
    "                    curr_len = i - h\n",
    "                    h = dict_[s[i]] + 1\n",
    "                # repeat char location lower than h, no need to update h\n",
    "                else:\n",
    "                    curr_len = i - h + 1\n",
    "                dict_[s[i]] = i\n",
    "            else:\n",
    "                curr_len = i - h + 1\n",
    "                dict_[s[i]] = i\n",
    "            max_len = max(curr_len, max_len)\n",
    "        \n",
    "        return max_len"
   ]
  }
 ],
 "metadata": {
  "kernelspec": {
   "display_name": "Python 3",
   "language": "python",
   "name": "python3"
  },
  "language_info": {
   "codemirror_mode": {
    "name": "ipython",
    "version": 3
   },
   "file_extension": ".py",
   "mimetype": "text/x-python",
   "name": "python",
   "nbconvert_exporter": "python",
   "pygments_lexer": "ipython3",
   "version": "3.7.3"
  }
 },
 "nbformat": 4,
 "nbformat_minor": 2
}
