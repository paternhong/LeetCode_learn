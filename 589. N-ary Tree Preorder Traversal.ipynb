{
 "cells": [
  {
   "cell_type": "markdown",
   "metadata": {},
   "source": [
    "Given an n-ary tree, return the preorder traversal of its nodes' values.  \n",
    "Nary-Tree input serialization is represented in their level order traversal, each group of children is separated by the null value (See examples).  \n",
    "\n",
    "<font color=green>Follow up:</font>  \n",
    "Recursive solution is trivial, could you do it iteratively?  \n",
    "Example 1:  \n",
    "\n",
    "<img src='https://assets.leetcode.com/uploads/2018/10/12/narytreeexample.png' width=500 height=500>\n",
    "\n",
    "```python\n",
    "Input: root = [1,null,3,2,4,null,5,6]\n",
    "Output: [1,3,5,6,2,4]\n",
    "```\n",
    "\n",
    "Example 2:  \n",
    "<img src='https://assets.leetcode.com/uploads/2019/11/08/sample_4_964.png' width=500 height=500>\n",
    "\n",
    "```python\n",
    "Input: root = [1,null,2,3,4,5,null,null,6,7,null,8,null,9,10,null,null,11,null,12,null,13,null,null,14]\n",
    "Output: [1,2,3,6,7,11,14,4,8,12,5,9,13,10]\n",
    " ```\n",
    "\n",
    "Constraints:  \n",
    "The height of the n-ary tree is less than or equal to 1000  \n",
    "The total number of nodes is between <font color=green>[0, 10^4]</font>\n",
    "\n"
   ]
  },
  {
   "cell_type": "markdown",
   "metadata": {},
   "source": [
    "https://leetcode.com/problems/n-ary-tree-preorder-traversal/"
   ]
  },
  {
   "cell_type": "markdown",
   "metadata": {},
   "source": [
    "## Answer 1 (Recursion)"
   ]
  },
  {
   "cell_type": "markdown",
   "metadata": {},
   "source": [
    "```python\n",
    "\"\"\"\n",
    "# Definition for a Node.\n",
    "class Node:\n",
    "    def __init__(self, val=None, children=None):\n",
    "        self.val = val\n",
    "        self.children = children\n",
    "\"\"\"\n",
    "class Solution:\n",
    "    def preorder(self, root: 'Node') -> List[int]:\n",
    "        def inner(root):\n",
    "            if not root:\n",
    "                return None\n",
    "            ans.append(root.val)\n",
    "            \n",
    "            for child in root.children:\n",
    "                inner(child)\n",
    "        ans = []\n",
    "        inner(root)\n",
    "        return ans\n",
    "```"
   ]
  },
  {
   "cell_type": "markdown",
   "metadata": {},
   "source": [
    "## Answer 2 (Iteration)"
   ]
  },
  {
   "cell_type": "markdown",
   "metadata": {},
   "source": [
    "```python\n",
    "\"\"\"\n",
    "# Definition for a Node.\n",
    "class Node:\n",
    "    def __init__(self, val=None, children=None):\n",
    "        self.val = val\n",
    "        self.children = children\n",
    "\"\"\"\n",
    "from collections import deque\n",
    "\n",
    "class Solution:\n",
    "    def preorder(self, root: 'Node') -> List[int]:\n",
    "        if not root:\n",
    "            return None\n",
    "        \n",
    "        queue = deque([root])\n",
    "        ans = []\n",
    "        while len(queue) != 0:\n",
    "            head_root = queue.popleft()\n",
    "            # 利用 deque 添加到左邊 (list 和 deque混用有時候會有問題)\n",
    "            queue = deque(head_root.children) + queue\n",
    "            ans.append(head_root.val)\n",
    "        return ans\n",
    "```"
   ]
  },
  {
   "cell_type": "markdown",
   "metadata": {},
   "source": []
  },
  {
   "cell_type": "markdown",
   "metadata": {},
   "source": []
  }
 ],
 "metadata": {
  "kernelspec": {
   "display_name": "Python 3",
   "language": "python",
   "name": "python3"
  },
  "language_info": {
   "codemirror_mode": {
    "name": "ipython",
    "version": 3
   },
   "file_extension": ".py",
   "mimetype": "text/x-python",
   "name": "python",
   "nbconvert_exporter": "python",
   "pygments_lexer": "ipython3",
   "version": "3.7.3"
  }
 },
 "nbformat": 4,
 "nbformat_minor": 2
}
