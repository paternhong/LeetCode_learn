{
 "cells": [
  {
   "cell_type": "markdown",
   "metadata": {},
   "source": [
    "A string S of lowercase letters is given. We want to partition this string into as many parts as possible so that each letter appears in at most one part, and return a list of integers representing the size of these parts.\n",
    "\n",
    "```python\n",
    "Example 1:\n",
    "\n",
    "Input: S = \"ababcbacadefegdehijhklij\"\n",
    "Output: [9,7,8]\n",
    "Explanation:\n",
    "The partition is \"ababcbaca\", \"defegde\", \"hijhklij\".\n",
    "This is a partition so that each letter appears in at most one part.\n",
    "A partition like \"ababcbacadefegde\", \"hijhklij\" is incorrect, because it splits S into less parts.\n",
    "Note:\n",
    "\n",
    "1. S will have length in range [1, 500].\n",
    "2. S will consist of lowercase letters ('a' to 'z') only.\n",
    "```"
   ]
  },
  {
   "cell_type": "markdown",
   "metadata": {},
   "source": [
    "https://leetcode.com/problems/partition-labels/"
   ]
  },
  {
   "cell_type": "markdown",
   "metadata": {},
   "source": [
    "# Answer\n",
    "```python\n",
    "class Solution:\n",
    "    def partitionLabels(self, S: str) -> List[int]:\n",
    "        # 找出每\"種\"字元的\"最大\"位置\n",
    "        str_max = {}\n",
    "        for i in range(len(S)):\n",
    "            # 重複的會直接覆蓋成新的最大位置\n",
    "            str_max[S[i]] = i\n",
    "        ans = []\n",
    "        # 起頭指標\n",
    "        sta_poi = 0\n",
    "        while sta_poi < len(S):\n",
    "            end_poi = str_max[S[sta_poi]]\n",
    "            for i in range(sta_poi, len(S)):\n",
    "                # 停止條件(代表不屬於此組)\n",
    "                if i > end_poi:\n",
    "                    break\n",
    "                # 替換條件(當前的i < 目前的結束位置 且 i的最大位置 > 目前的結束位置)\n",
    "                if str_max[S[i]] > end_poi:\n",
    "                    end_poi = str_max[S[i]]\n",
    "            # ans.append(S[sta_poi:end_poi + 1])\n",
    "            ans.append((end_poi + 1) - sta_poi)\n",
    "            sta_poi = end_poi + 1\n",
    "            \n",
    "        # return [len(i) for i in ans]\n",
    "        return ans\n",
    "```"
   ]
  },
  {
   "cell_type": "code",
   "execution_count": null,
   "metadata": {},
   "outputs": [],
   "source": []
  },
  {
   "cell_type": "code",
   "execution_count": null,
   "metadata": {},
   "outputs": [],
   "source": []
  },
  {
   "cell_type": "code",
   "execution_count": null,
   "metadata": {},
   "outputs": [],
   "source": []
  },
  {
   "cell_type": "code",
   "execution_count": null,
   "metadata": {},
   "outputs": [],
   "source": []
  }
 ],
 "metadata": {
  "kernelspec": {
   "display_name": "Python 3",
   "language": "python",
   "name": "python3"
  },
  "language_info": {
   "codemirror_mode": {
    "name": "ipython",
    "version": 3
   },
   "file_extension": ".py",
   "mimetype": "text/x-python",
   "name": "python",
   "nbconvert_exporter": "python",
   "pygments_lexer": "ipython3",
   "version": "3.7.3"
  }
 },
 "nbformat": 4,
 "nbformat_minor": 2
}
