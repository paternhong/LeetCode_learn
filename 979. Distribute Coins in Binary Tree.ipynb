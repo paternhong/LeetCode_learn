{
 "cells": [
  {
   "cell_type": "markdown",
   "metadata": {},
   "source": [
    "Given the root of a binary tree with N nodes, each node in the tree has node.val coins, and there are N coins total.  \n",
    "In one move, we may choose two adjacent nodes and move one coin from one node to another.  (The move may be from parent to child, or from child to parent.)  \n",
    "Return the number of moves required to make every node have exactly one coin.  \n",
    "<font color=green>Example 1:</font>\n",
    "<img src='https://assets.leetcode.com/uploads/2019/01/18/tree1.png' width=200px />\n",
    "Input: [3,0,0]  \n",
    "Output: 2  \n",
    "Explanation: From the root of the tree, we move one coin to its left child, and one coin to its right child.  \n",
    "<font color=green>Example 2:</font>\n",
    "<img src='https://assets.leetcode.com/uploads/2019/01/18/tree2.png' width='200' />  \n",
    "Input: [0,3,0]  \n",
    "Output: 3  \n",
    "Explanation: From the left child of the root, we move two coins to the root [taking two moves].  \n",
    "Then, we move one coin from the root of the tree to the right child.  \n",
    "<font color=green>Example 3:</font>  \n",
    "<img src='https://assets.leetcode.com/uploads/2019/01/18/tree3.png' width='200' />\n",
    "Input: [1,0,2]  \n",
    "Output: 2  \n",
    "<font color=green>Example 4:</font>\n",
    "<img src='https://assets.leetcode.com/uploads/2019/01/18/tree4.png' width='200' />  \n",
    "Input: [1,0,0,null,3]\n",
    "Output: 4  \n",
    "<font color=green>Note:</font>  \n",
    "1<= N <= 100  \n",
    "0 <= node.val <= N  "
   ]
  },
  {
   "cell_type": "markdown",
   "metadata": {},
   "source": [
    "https://leetcode.com/problems/distribute-coins-in-binary-tree/"
   ]
  },
  {
   "cell_type": "markdown",
   "metadata": {},
   "source": [
    "## Answer 1"
   ]
  },
  {
   "cell_type": "markdown",
   "metadata": {},
   "source": [
    "```python\n",
    "# Definition for a binary tree node.\n",
    "# class TreeNode:\n",
    "#     def __init__(self, x):\n",
    "#         self.val = x\n",
    "#         self.left = None\n",
    "#         self.right = None\n",
    "class Solution:\n",
    "    def distributeCoins(self, root: TreeNode) -> int:\n",
    "        self.ans = 0\n",
    "        def inner(root):\n",
    "            if not root:\n",
    "                return 0\n",
    "            L = inner(root.left)\n",
    "            R = inner(root.right)\n",
    "            # L, R 取絕對值代表要走的次數(不管in or out)\n",
    "            self.ans += abs(L) + abs(R)\n",
    "            # 回傳當前\"Sub Tree\"所多(or 缺少)的次數，當前Node == 1代表剛好，因此減1\n",
    "            return L + R + root.val - 1\n",
    "        inner(root)\n",
    "        return self.ans\n",
    "```"
   ]
  }
 ],
 "metadata": {
  "kernelspec": {
   "display_name": "Python 3",
   "language": "python",
   "name": "python3"
  },
  "language_info": {
   "codemirror_mode": {
    "name": "ipython",
    "version": 3
   },
   "file_extension": ".py",
   "mimetype": "text/x-python",
   "name": "python",
   "nbconvert_exporter": "python",
   "pygments_lexer": "ipython3",
   "version": "3.7.3"
  }
 },
 "nbformat": 4,
 "nbformat_minor": 2
}
