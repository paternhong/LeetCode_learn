{
 "cells": [
  {
   "cell_type": "markdown",
   "metadata": {},
   "source": [
    "Given an n-ary tree, return the postorder traversal of its nodes' values.  \n",
    "For example, given a 3-ary tree:  \n",
    "<img src='https://assets.leetcode.com/uploads/2018/10/12/narytreeexample.png'>\n",
    "Return its postorder traversal as: [5,6,3,2,4,1].  \n",
    "  \n",
    "Note:  \n",
    "Recursive solution is trivial, could you do it iteratively?"
   ]
  },
  {
   "cell_type": "markdown",
   "metadata": {},
   "source": [
    "## Answer 1 (Recursion)"
   ]
  },
  {
   "cell_type": "markdown",
   "metadata": {},
   "source": [
    "```python\n",
    "\"\"\"\n",
    "# Definition for a Node.\n",
    "class Node:\n",
    "    def __init__(self, val, children):\n",
    "        self.val = val\n",
    "        self.children = children\n",
    "\"\"\"\n",
    "class Solution:\n",
    "    def postorder(self, root: 'Node') -> List[int]:\n",
    "        def post_in(root):\n",
    "            if root:\n",
    "                # 未知有多少子代，所以用回圈遍尋\n",
    "                for _node in root.children:\n",
    "                    post_in(_node)\n",
    "                # 做完就新增\n",
    "                res.append(root.val)\n",
    "                \n",
    "        res = []\n",
    "        post_in(root)\n",
    "        return res\n",
    "```"
   ]
  },
  {
   "cell_type": "markdown",
   "metadata": {},
   "source": [
    "## Answer 2 (Iteration)\n",
    "#### Need to try Counterintuitive (反向思考)"
   ]
  },
  {
   "cell_type": "markdown",
   "metadata": {},
   "source": [
    "```python\n",
    "\"\"\"\n",
    "# Definition for a Node.\n",
    "class Node:\n",
    "    def __init__(self, val, children):\n",
    "        self.val = val\n",
    "        self.children = children\n",
    "\"\"\"\n",
    "class Solution:\n",
    "    def postorder(self, root: 'Node') -> List[int]:\n",
    "        if not root:\n",
    "            return\n",
    "        '''\n",
    "        postorder 為 左 > 右 > 上 的順序\n",
    "        但用iter只能從root開始解起，等於是要用反序 上 > 右 > 左 的順序解\n",
    "        '''\n",
    "        stack = [root]\n",
    "        ans_rev = []\n",
    "        \n",
    "        while stack != []:\n",
    "            latest = stack.pop()\n",
    "            stack += latest.children\n",
    "            ans_rev.append(latest.val)\n",
    "            \n",
    "        # ans_rev 和所求的 ans 剛好為相反的\n",
    "        return ans_rev[::-1]\n",
    "```"
   ]
  },
  {
   "cell_type": "markdown",
   "metadata": {},
   "source": []
  },
  {
   "cell_type": "markdown",
   "metadata": {},
   "source": []
  }
 ],
 "metadata": {
  "kernelspec": {
   "display_name": "Python 3",
   "language": "python",
   "name": "python3"
  },
  "language_info": {
   "codemirror_mode": {
    "name": "ipython",
    "version": 3
   },
   "file_extension": ".py",
   "mimetype": "text/x-python",
   "name": "python",
   "nbconvert_exporter": "python",
   "pygments_lexer": "ipython3",
   "version": "3.7.3"
  }
 },
 "nbformat": 4,
 "nbformat_minor": 2
}
