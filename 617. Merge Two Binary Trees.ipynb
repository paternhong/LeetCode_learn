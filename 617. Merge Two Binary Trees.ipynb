{
 "cells": [
  {
   "cell_type": "markdown",
   "metadata": {},
   "source": [
    "Given two binary trees and imagine that when you put one of them to cover the other, some nodes of the two trees are overlapped while the others are not.\n",
    "\n",
    "You need to merge them into a new binary tree. The merge rule is that if two nodes overlap, then sum node values up as the new value of the merged node. Otherwise, the NOT null node will be used as the node of new tree."
   ]
  },
  {
   "cell_type": "markdown",
   "metadata": {},
   "source": [
    "https://leetcode.com/problems/merge-two-binary-trees/"
   ]
  },
  {
   "cell_type": "markdown",
   "metadata": {},
   "source": [
    "## Answer 1"
   ]
  },
  {
   "cell_type": "code",
   "execution_count": null,
   "metadata": {},
   "outputs": [],
   "source": [
    "# Definition for a binary tree node.\n",
    "# class TreeNode:\n",
    "#     def __init__(self, x):\n",
    "#         self.val = x\n",
    "#         self.left = None\n",
    "#         self.right = None\n",
    "\n",
    "class Solution:\n",
    "    def mergeTrees(self, t1: TreeNode, t2: TreeNode) -> TreeNode:\n",
    "        if not t1 and not t2:\n",
    "            return\n",
    "        elif not t1 and t2:\n",
    "            merged = TreeNode(t2.val)\n",
    "            merged.left = self.mergeTrees(None, t2.left)\n",
    "            merged.right = self.mergeTrees(None, t2.right)\n",
    "        elif not t2 and t1:\n",
    "            merged = TreeNode(t1.val)\n",
    "            merged.left = self.mergeTrees(t1.left, None)\n",
    "            merged.right = self.mergeTrees(t1.right, None)\n",
    "        else:\n",
    "            merged = TreeNode(t1.val + t2.val)\n",
    "            merged.left = self.mergeTrees(t1.left, t2.left)\n",
    "            merged.right = self.mergeTrees(t1.right, t2.right)\n",
    "        \n",
    "        return merged"
   ]
  },
  {
   "cell_type": "markdown",
   "metadata": {},
   "source": [
    "## Answer 2\n",
    "Hint: 當只有t1 or t2 其中一方的時候，則此分支不用再考慮另一方！(ex. 若t1 == None, 則此點接下來只需要考慮t2，即直接return t2就好)"
   ]
  },
  {
   "cell_type": "code",
   "execution_count": null,
   "metadata": {},
   "outputs": [],
   "source": [
    "class Solution:\n",
    "    def mergeTrees(self, t1: TreeNode, t2: TreeNode) -> TreeNode:\n",
    "        if not t1 and not t2:\n",
    "            return\n",
    "        elif not t1:\n",
    "            return t2\n",
    "        elif not t2:\n",
    "            return t1\n",
    "        \n",
    "        merged = TreeNode(t1.val + t2.val)\n",
    "        merged.left = self.mergeTrees(t1.left, t2.left)\n",
    "        merged.right = self.mergeTrees(t1.right, t2.right)\n",
    "        \n",
    "        return merged"
   ]
  },
  {
   "cell_type": "markdown",
   "metadata": {},
   "source": []
  }
 ],
 "metadata": {
  "kernelspec": {
   "display_name": "Python 3",
   "language": "python",
   "name": "python3"
  },
  "language_info": {
   "codemirror_mode": {
    "name": "ipython",
    "version": 3
   },
   "file_extension": ".py",
   "mimetype": "text/x-python",
   "name": "python",
   "nbconvert_exporter": "python",
   "pygments_lexer": "ipython3",
   "version": "3.7.3"
  }
 },
 "nbformat": 4,
 "nbformat_minor": 2
}
