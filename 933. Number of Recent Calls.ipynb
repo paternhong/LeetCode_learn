{
 "cells": [
  {
   "cell_type": "markdown",
   "metadata": {},
   "source": [
    "Write a class RecentCounter to count recent requests.  \n",
    "It has only one method: <font color=orange>ping(int t)</font>, where t represents some time in milliseconds.   \n",
    "Return the number of pings that have been made from 3000 milliseconds ago until now.  \n",
    "Any ping with time in <font color=orange>[t - 3000, t]</font> will count, including the current ping.  \n",
    "It is guaranteed that every call to ping uses a strictly larger value of t than before.  \n",
    "```pytohn\n",
    "Example 1:\n",
    "\n",
    "Input: inputs = [\"RecentCounter\",\"ping\",\"ping\",\"ping\",\"ping\"], inputs = [[],[1],[100],[3001],[3002]]\n",
    "Output: [null,1,2,3,3]\n",
    " ```\n",
    "\n",
    "Note:  \n",
    "Each test case will have at most <font color=orange>10000</font> calls to ping.  \n",
    "Each test case will call ping with strictly increasing values of t.  \n",
    "Each call to ping will have <font color=orange>1 <= t <= 10^9</font>."
   ]
  },
  {
   "cell_type": "markdown",
   "metadata": {},
   "source": [
    "https://leetcode.com/problems/number-of-recent-calls/"
   ]
  },
  {
   "cell_type": "markdown",
   "metadata": {},
   "source": [
    "## Answer 1"
   ]
  },
  {
   "cell_type": "markdown",
   "metadata": {},
   "source": [
    "```python\n",
    "from collections import deque\n",
    "\n",
    "# Your RecentCounter object will be instantiated and called as such:\n",
    "# obj = RecentCounter()\n",
    "# param_1 = obj.ping(t)\n",
    "\n",
    "class RecentCounter:\n",
    "\n",
    "    def __init__(self):\n",
    "        self.q = deque()\n",
    "        \n",
    "\n",
    "    def ping(self, t: int) -> int:\n",
    "        self.q.append(t)\n",
    "        \n",
    "        while self.q and (self.q[0] < (t - 3000)):\n",
    "            self.q.popleft()\n",
    "        \n",
    "        return len(self.q)\n",
    "```"
   ]
  },
  {
   "cell_type": "markdown",
   "metadata": {},
   "source": []
  },
  {
   "cell_type": "markdown",
   "metadata": {},
   "source": []
  },
  {
   "cell_type": "markdown",
   "metadata": {},
   "source": []
  }
 ],
 "metadata": {
  "kernelspec": {
   "display_name": "Python 3",
   "language": "python",
   "name": "python3"
  },
  "language_info": {
   "codemirror_mode": {
    "name": "ipython",
    "version": 3
   },
   "file_extension": ".py",
   "mimetype": "text/x-python",
   "name": "python",
   "nbconvert_exporter": "python",
   "pygments_lexer": "ipython3",
   "version": "3.7.3"
  }
 },
 "nbformat": 4,
 "nbformat_minor": 2
}
