{
 "cells": [
  {
   "cell_type": "markdown",
   "metadata": {},
   "source": [
    "A string is a valid parentheses string (denoted VPS) if and only if it consists of \"(\" and \")\" characters only, and:\n",
    "\n",
    " * It is the empty string, or\n",
    " * It can be written as AB (A concatenated with B), where A and B are VPS's, or\n",
    " * It can be written as (A), where A is a VPS.  \n",
    " \n",
    "We can similarly define the nesting depth depth(S) of any VPS S as follows:\n",
    "\n",
    " * depth(\"\") = 0\n",
    " * depth(A + B) = max(depth(A), depth(B)), where A and B are VPS's\n",
    " * depth(\"(\" + A + \")\") = 1 + depth(A), where A is a VPS.\n",
    "\n",
    "For example,  \"\", \"()()\", and \"()(()())\" are VPS's (with nesting depths 0, 1, and 2), and \")(\" and \"(()\" are not VPS's.\n",
    "  \n",
    "Given a VPS seq, split it into two disjoint subsequences A and B, such that A and B are VPS's (and A.length + B.length = seq.length).\n",
    "  \n",
    "Now choose any such A and B such that max(depth(A), depth(B)) is the minimum possible value.\n",
    "  \n",
    "Return an answer array (of length seq.length) that encodes such a choice of A and B:  answer[i] = 0 if seq[i] is part of A, else answer[i] = 1.  Note that even though multiple answers may exist, you may return any of them.  \n",
    "\n",
    "font color=green>Example 1:</font>\n",
    "```python\n",
    "Input: seq = \"(()())\"\n",
    "Output: [0,1,1,1,1,0]\n",
    "```\n",
    "<font color=green>Example 2:</font>\n",
    "```python\n",
    "Input: seq = \"()(())()\"\n",
    "Output: [0,0,0,1,1,0,1,1]\n",
    "```\n",
    "\n",
    "Constraints:  \n",
    "1 <= seq.size <= 10000"
   ]
  },
  {
   "cell_type": "markdown",
   "metadata": {},
   "source": [
    "https://leetcode.com/problems/maximum-nesting-depth-of-two-valid-parentheses-strings/"
   ]
  },
  {
   "cell_type": "markdown",
   "metadata": {},
   "source": [
    "## Answer 1\n",
    "1. 把seq分成兩個序列A, B，其中此兩序列的最大套嵌深度的和會等於seq的最大套嵌深度\n",
    "    1. 先找出seq的最大套嵌深度\n",
    "    2. 拆分取得可以讓min(depth of A, depth of B)最小的A, B (Ex. 假設seq的max_depth = 9, 則取depth of A, B分別為5, 4會為最小，也就是取一半)\n",
    "2. 遍尋seq的每個元素，判斷當前元素的深度\n",
    "    * 當前元素為'(' or ')'的情況下，取得當前深度的方法有些不同·需注意\n",
    "        * 假設起始深度 = 0\n",
    "            * 遇到'('代表要加一層，所以要先增加層數再執行判斷\n",
    "            * 遇到')'代表要減一層，所以要先執行判斷再增加層數\n",
    "    * 深度小於等於 depth of A，則res[i] = 0"
   ]
  },
  {
   "cell_type": "markdown",
   "metadata": {},
   "source": [
    "```python\n",
    "class Solution:\n",
    "    def maxDepthAfterSplit(self, seq: str) -> List[int]:\n",
    "        n = len(seq)\n",
    "        # 取得最大深度\n",
    "        dep_now = 0\n",
    "        max_dep = 0\n",
    "        for i in range(n):\n",
    "            if seq[i] == '(':\n",
    "                dep_now += 1\n",
    "                if dep_now > max_dep:\n",
    "                    max_dep = dep_now\n",
    "            else:\n",
    "                dep_now -= 1\n",
    "        # 拆分最大深度成為A及Ｂ\n",
    "        sep_max = max_dep // 2 + max_dep % 2\n",
    "        res = [0] * n\n",
    "        dep_now = 0\n",
    "        for i in range(n):\n",
    "            if seq[i] == '(':\n",
    "                dep_now += 1\n",
    "                if dep_now <= sep_max:\n",
    "                    res[i] = 0\n",
    "                else:\n",
    "                    res[i] = 1\n",
    "            else:\n",
    "                # 先判斷再減level(和'('情況不同的部分)\n",
    "                if dep_now <= sep_max:\n",
    "                    res[i] = 0\n",
    "                else:\n",
    "                    res[i] = 1\n",
    "                dep_now -= 1\n",
    "        return res\n",
    " ```"
   ]
  },
  {
   "cell_type": "markdown",
   "metadata": {},
   "source": [
    "## Answer 2\n",
    "#### 尚不確定具體解法的原理..."
   ]
  },
  {
   "cell_type": "markdown",
   "metadata": {},
   "source": [
    "```python\n",
    "class Solution:\n",
    "    def maxDepthAfterSplit(self, seq: str) -> List[int]:\n",
    "        n, level = len(seq), 0\n",
    "        res = [0] * n\n",
    "        \n",
    "        for i in range(n):\n",
    "            if seq[i] == '(':\n",
    "                res[i] = level % 2\n",
    "                level += 1\n",
    "            else:\n",
    "                level -= 1\n",
    "                res[i] = level % 2\n",
    "                \n",
    "        return res \n",
    "```"
   ]
  },
  {
   "cell_type": "markdown",
   "metadata": {},
   "source": []
  },
  {
   "cell_type": "markdown",
   "metadata": {},
   "source": []
  }
 ],
 "metadata": {
  "kernelspec": {
   "display_name": "Python 3",
   "language": "python",
   "name": "python3"
  },
  "language_info": {
   "codemirror_mode": {
    "name": "ipython",
    "version": 3
   },
   "file_extension": ".py",
   "mimetype": "text/x-python",
   "name": "python",
   "nbconvert_exporter": "python",
   "pygments_lexer": "ipython3",
   "version": "3.7.3"
  }
 },
 "nbformat": 4,
 "nbformat_minor": 2
}
