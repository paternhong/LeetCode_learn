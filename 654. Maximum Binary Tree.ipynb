{
 "cells": [
  {
   "cell_type": "markdown",
   "metadata": {},
   "source": [
    "Given an integer array with no duplicates. A maximum tree building on this array is defined as follow:\n",
    "\n",
    "The root is the maximum number in the array.\n",
    "The left subtree is the maximum tree constructed from left part subarray divided by the maximum number.\n",
    "The right subtree is the maximum tree constructed from right part subarray divided by the maximum number.\n",
    "Construct the maximum tree by the given array and output the root node of this tree."
   ]
  },
  {
   "cell_type": "markdown",
   "metadata": {},
   "source": [
    "```\n",
    "Example 1:\n",
    "\n",
    "Input: [3,2,1,6,0,5]\n",
    "Output: return the tree root node representing the following tree:\n",
    "\n",
    "      6\n",
    "    /   \\\n",
    "   3     5\n",
    "    \\    / \n",
    "     2  0   \n",
    "       \\\n",
    "        1\n",
    "Note:\n",
    "\n",
    "The size of the given array will be in the range [1,1000].\n",
    "```"
   ]
  },
  {
   "cell_type": "markdown",
   "metadata": {},
   "source": [
    "https://leetcode.com/problems/maximum-binary-tree/"
   ]
  },
  {
   "cell_type": "markdown",
   "metadata": {},
   "source": [
    "## Answer 1"
   ]
  },
  {
   "cell_type": "code",
   "execution_count": null,
   "metadata": {},
   "outputs": [],
   "source": [
    "# Definition for a binary tree node.\n",
    "# class TreeNode:\n",
    "#     def __init__(self, x):\n",
    "#         self.val = x\n",
    "#         self.left = None\n",
    "#         self.right = None\n",
    "\n",
    "class Solution:\n",
    "    def constructMaximumBinaryTree(self, nums: List[int]) -> TreeNode:\n",
    "        if len(nums) == 1:  # 此項可以拿掉，因為後面的判斷已經涵蓋這項目，但拿掉要再考慮_max起始值(0)和list內最大值相同的問題\n",
    "            return TreeNode(nums[0])\n",
    "        elif len(nums) == 0:\n",
    "            return None\n",
    "        else:\n",
    "            # find the maximaun in the list\n",
    "            _max = 0\n",
    "            for i in range(len(nums)):\n",
    "                if nums[i] > _max:\n",
    "                    _max = nums[i]\n",
    "                    pointer = i\n",
    "            node = TreeNode(_max)\n",
    "            node.left = self.constructMaximumBinaryTree(nums[:pointer])\n",
    "            node.right = self.constructMaximumBinaryTree(nums[pointer + 1:])\n",
    "            \n",
    "            return node\n",
    "'''\n",
    "可以修正如下\n",
    "'''"
   ]
  },
  {
   "cell_type": "code",
   "execution_count": null,
   "metadata": {},
   "outputs": [],
   "source": [
    "class Solution:\n",
    "    def constructMaximumBinaryTree(self, nums: List[int]) -> TreeNode:\n",
    "        if nums == []:\n",
    "            return None\n",
    "        # find the maximaun in the list\n",
    "        # 直接把初始值設定為第一筆資料\n",
    "        _max = nums[0] # 初始最大值\n",
    "        pointer = 0 # 初始最大值位置\n",
    "        for i in range(len(nums)):\n",
    "            if nums[i] > _max:\n",
    "                _max = nums[i]\n",
    "                pointer = i\n",
    "        node = TreeNode(_max)\n",
    "        node.left = self.constructMaximumBinaryTree(nums[:pointer])\n",
    "        node.right = self.constructMaximumBinaryTree(nums[pointer + 1:])\n",
    "        return node\n",
    "        "
   ]
  },
  {
   "cell_type": "markdown",
   "metadata": {},
   "source": [
    "## Answer 2"
   ]
  },
  {
   "cell_type": "code",
   "execution_count": null,
   "metadata": {},
   "outputs": [],
   "source": [
    "# Definition for a binary tree node.\n",
    "# class TreeNode:\n",
    "#     def __init__(self, x):\n",
    "#         self.val = x\n",
    "#         self.left = None\n",
    "#         self.right = None\n",
    "\n",
    "class Solution:\n",
    "    def constructMaximumBinaryTree(self, nums: List[int]) -> TreeNode:\n",
    "        def cMBT(h, t):\n",
    "            if h == t:\n",
    "                return TreeNode(nums[t])\n",
    "            elif t < h:\n",
    "                return None\n",
    "            else:\n",
    "                l = h\n",
    "                r = t\n",
    "                for i in range(r - l):\n",
    "                    # 要考慮兩者相等的情況\n",
    "                    if nums[l] >= nums[r]:\n",
    "                        r = r - 1\n",
    "                    else:\n",
    "                        l = l + 1\n",
    "                # 比到最後當r == l 的情況，代表此為最大值\n",
    "                node = TreeNode(nums[l])\n",
    "                node.left = cMBT(h, l - 1)\n",
    "                node.right = cMBT(l + 1, t)\n",
    "            return node\n",
    "        \n",
    "        \n",
    "        if nums == None:\n",
    "            return nums\n",
    "        # 初始指標0，結束指標len((nums) - 1)\n",
    "        \n",
    "        return cMBT(0, len(nums) - 1)"
   ]
  },
  {
   "cell_type": "markdown",
   "metadata": {},
   "source": [
    "## Answer 3\n",
    "參考別人的"
   ]
  },
  {
   "cell_type": "code",
   "execution_count": null,
   "metadata": {},
   "outputs": [],
   "source": [
    "class Solution:\n",
    "    def constructMaximumBinaryTree(self, nums: List[int]) -> TreeNode:\n",
    "        if nums == []:\n",
    "            return None\n",
    "        # find the maximaun in the list\n",
    "        _max = max(nums)\n",
    "        posi = nums.index(_max)\n",
    "        node = TreeNode(_max)\n",
    "        node.left = self.constructMaximumBinaryTree(nums[:posi])\n",
    "        node.right = self.constructMaximumBinaryTree(nums[posi + 1:])\n",
    "        return node"
   ]
  },
  {
   "cell_type": "code",
   "execution_count": null,
   "metadata": {},
   "outputs": [],
   "source": []
  }
 ],
 "metadata": {
  "kernelspec": {
   "display_name": "Python 3",
   "language": "python",
   "name": "python3"
  },
  "language_info": {
   "codemirror_mode": {
    "name": "ipython",
    "version": 3
   },
   "file_extension": ".py",
   "mimetype": "text/x-python",
   "name": "python",
   "nbconvert_exporter": "python",
   "pygments_lexer": "ipython3",
   "version": "3.7.3"
  }
 },
 "nbformat": 4,
 "nbformat_minor": 2
}
