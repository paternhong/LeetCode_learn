{
 "cells": [
  {
   "cell_type": "markdown",
   "metadata": {},
   "source": [
    "```python\n",
    "Given a string s, find the longest palindromic substring in s. You may assume that the maximum length of s is 1000.\n",
    "\n",
    "Example 1:\n",
    "\n",
    "Input: \"babad\"\n",
    "Output: \"bab\"\n",
    "Note: \"aba\" is also a valid answer.\n",
    "Example 2:\n",
    "\n",
    "Input: \"cbbd\"\n",
    "Output: \"bb\"\n",
    "```"
   ]
  },
  {
   "cell_type": "markdown",
   "metadata": {},
   "source": [
    "https://leetcode.com/problems/longest-palindromic-substring/"
   ]
  },
  {
   "cell_type": "markdown",
   "metadata": {},
   "source": [
    "## Answer1\n",
    "```python\n",
    "class Solution:  \n",
    "    def longestPalindrome(self, s: str) -> str:\n",
    "        # 先取得字串長度，之後依序從最長 -> 減一 -> 減一 ... 判斷到最後字串長度為一，若中途有發現palindrome則可以直接結束\n",
    "        # 長度\n",
    "        max_pal = ''\n",
    "        for str_len in range(len(s), 0, -1):\n",
    "            # 起始指標\n",
    "            h = 0\n",
    "            t = str_len - 1\n",
    "            while t <= len(s) - 1:\n",
    "                # 利用palindorme反向排序會相同的特性\n",
    "                str_temp = s[h:t + 1]\n",
    "                if str_temp == str_temp[::-1]:\n",
    "                    max_pal = s[h:t + 1]\n",
    "                    return max_pal\n",
    "\n",
    "                # 移動動態磚\n",
    "                h += 1\n",
    "                t += 1\n",
    "        return max_pal\n",
    "    ```"
   ]
  },
  {
   "cell_type": "markdown",
   "metadata": {},
   "source": [
    "## Answer2\n",
    "```python\n",
    "class Solution:  \n",
    "    def longestPalindrome(self, s: str) -> str:\n",
    "        s_list = list(s)\n",
    "        max_pal = []\n",
    "        max_len = 0\n",
    "        for i in range(len(s_list)):\n",
    "            # 若最長長度小於max，則可以直接結束\n",
    "            if (len(s_list) - 1) - i + 1 < max_len:\n",
    "                break\n",
    "            # \"含i\"的需要作的狀況(次數)        \n",
    "            for j in range(len(s_list) - 1, i - 1, -1):\n",
    "                # 先假設為pal\n",
    "                pali = True\n",
    "                # 若當前長度小於max，則可以直接結束到下一階段\n",
    "                if j - i + 1 < max_len:\n",
    "                    break\n",
    "                \n",
    "                # 開頭初始位置\n",
    "                h = i\n",
    "                # 尾巴初始位置\n",
    "                t = j\n",
    "                # 判斷是否為palindromic\n",
    "                while h <= t:\n",
    "                    # 檢查此長度的字串是否為palindromic\n",
    "                    if s_list[h] == s_list[t]:\n",
    "                        h += 1\n",
    "                        t -= 1\n",
    "                    else:\n",
    "                        pali = False\n",
    "                        break\n",
    "                        \n",
    "                if pali and j - i + 1 > max_len:\n",
    "                    max_pal = s_list[i: j + 1]\n",
    "                    max_len = len(max_pal)\n",
    "                \n",
    "        \n",
    "        return ''.join(max_pal)\n",
    "```"
   ]
  },
  {
   "cell_type": "code",
   "execution_count": null,
   "metadata": {},
   "outputs": [],
   "source": []
  },
  {
   "cell_type": "code",
   "execution_count": null,
   "metadata": {},
   "outputs": [],
   "source": []
  }
 ],
 "metadata": {
  "kernelspec": {
   "display_name": "Python 3",
   "language": "python",
   "name": "python3"
  },
  "language_info": {
   "codemirror_mode": {
    "name": "ipython",
    "version": 3
   },
   "file_extension": ".py",
   "mimetype": "text/x-python",
   "name": "python",
   "nbconvert_exporter": "python",
   "pygments_lexer": "ipython3",
   "version": "3.7.3"
  }
 },
 "nbformat": 4,
 "nbformat_minor": 2
}
