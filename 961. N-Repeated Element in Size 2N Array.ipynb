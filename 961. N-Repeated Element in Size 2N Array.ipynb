{
 "cells": [
  {
   "cell_type": "markdown",
   "metadata": {},
   "source": [
    "In a array A of size 2N, there are N+1 unique elements, and exactly one of these elements is repeated N times.\n",
    "\n",
    "Return the element repeated N times.\n",
    "```python\n",
    "Example 1:\n",
    "Input: [1,2,3,3]\n",
    "Output: 3\n",
    "Example 2:\n",
    "\n",
    "Input: [2,1,2,5,3,2]\n",
    "Output: 2\n",
    "Example 3:\n",
    "\n",
    "Input: [5,1,5,2,5,3,5,4]\n",
    "Output: 5\n",
    " ```\n",
    "Note:  \n",
    "4 <= A.length <= 10000  \n",
    "0 <= A[i] < 10000  \n",
    "A.length is even"
   ]
  },
  {
   "cell_type": "markdown",
   "metadata": {},
   "source": [
    "## Answer 1\n",
    "```python\n",
    "class Solution:\n",
    "    def repeatedNTimes(self, A: List[int]) -> int:\n",
    "        N = len(A) // 2\n",
    "        temp = []\n",
    "        for i in range(len(A)):\n",
    "            # 如果已經在temp裡面的話，代表已經判斷過不符合需求，就不用再判斷一次！\n",
    "            if A[i] not in temp:\n",
    "                temp.append(A[i])\n",
    "                if A.count(A[i]) == N:\n",
    "                    return A[i]\n",
    "```"
   ]
  },
  {
   "cell_type": "markdown",
   "metadata": {},
   "source": [
    "## Answer 2\n",
    "```python\n",
    "class Solution:\n",
    "    def repeatedNTimes(self, A: List[int]) -> int:\n",
    "        N = len(A) // 2\n",
    "        count = {}\n",
    "        # 先初始化，可減低複雜度\n",
    "        for i in A:\n",
    "            count[i] = 0\n",
    "        for i in A:\n",
    "            count[i] += 1\n",
    "            if count[i] == N:\n",
    "                return i\n",
    "```"
   ]
  },
  {
   "cell_type": "markdown",
   "metadata": {},
   "source": [
    "## Answer 3\n",
    "```python\n",
    "class Solution:\n",
    "    def repeatedNTimes(self, A: List[int]) -> int:\n",
    "        N = len(A) // 2\n",
    "        for i in A:\n",
    "            if A.count(i) == N:\n",
    "                return i\n",
    "```"
   ]
  }
 ],
 "metadata": {
  "kernelspec": {
   "display_name": "Python 3",
   "language": "python",
   "name": "python3"
  },
  "language_info": {
   "codemirror_mode": {
    "name": "ipython",
    "version": 3
   },
   "file_extension": ".py",
   "mimetype": "text/x-python",
   "name": "python",
   "nbconvert_exporter": "python",
   "pygments_lexer": "ipython3",
   "version": "3.7.3"
  }
 },
 "nbformat": 4,
 "nbformat_minor": 2
}
