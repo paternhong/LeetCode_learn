{
 "cells": [
  {
   "cell_type": "markdown",
   "metadata": {},
   "source": [
    "Given a non-negative integer numRows, generate the first numRows of Pascal's triangle.\n",
    "\n",
    "In Pascal's triangle, each number is the sum of the two numbers directly above it.\n",
    "```python\n",
    "Example:\n",
    "Input: 5\n",
    "Output:\n",
    "[\n",
    "     [1],\n",
    "    [1,1],\n",
    "   [1,2,1],\n",
    "  [1,3,3,1],\n",
    " [1,4,6,4,1]\n",
    "]\n",
    "```"
   ]
  },
  {
   "cell_type": "markdown",
   "metadata": {},
   "source": [
    "https://leetcode.com/problems/pascals-triangle/"
   ]
  },
  {
   "cell_type": "markdown",
   "metadata": {},
   "source": [
    "```python\n",
    "class Solution:\n",
    "    def generate(self, numRows: int) -> List[List[int]]:\n",
    "        if numRows < 1:\n",
    "            return []\n",
    "        pre_list = self.generate(numRows - 1)\n",
    "        now_list = []\n",
    "        for i in range(numRows):\n",
    "            if i == 0 or i == numRows - 1: # 頭尾為1\n",
    "                now_list.append(1)\n",
    "            else:\n",
    "                now_list.append(pre_list[(numRows - 1) - 1][i - 1] + pre_list[(numRows - 1) - 1][i])\n",
    "    \n",
    "        pre_list.append(now_list)\n",
    "        # append並沒有回傳值，所以不能使用ans = pre_list.append(now_list)這種寫法\n",
    "        ans = pre_list\n",
    "        # 重新給reverse ans只是為了較好理解內容\n",
    "        return ans\n",
    "```"
   ]
  },
  {
   "cell_type": "markdown",
   "metadata": {},
   "source": [
    "## Answer 2\n",
    "```python\n",
    "class Solution:\n",
    "    def generate(self, numRows: int) -> List[List[int]]:\n",
    "        if numRows == 0:\n",
    "            return []\n",
    "        elif numRows == 1:\n",
    "            return [[1]]\n",
    "        ans = [[1], [1, 1]] # The situation of numRows = 2\n",
    "        for i in range(2, numRows):\n",
    "            pre_list = ans[i - 1]\n",
    "            new_list = []\n",
    "            for j in range(i + 1):\n",
    "                if j == 0:\n",
    "                    new_list.append(pre_list[j])\n",
    "                elif j == i:\n",
    "                    new_list.append(pre_list[j - 1])\n",
    "                else:\n",
    "                    num = pre_list[j - 1] + pre_list[j]\n",
    "                    new_list.append(num)\n",
    "            ans.append(new_list)\n",
    "        return ans\n",
    "```"
   ]
  }
 ],
 "metadata": {
  "kernelspec": {
   "display_name": "Python 3",
   "language": "python",
   "name": "python3"
  },
  "language_info": {
   "codemirror_mode": {
    "name": "ipython",
    "version": 3
   },
   "file_extension": ".py",
   "mimetype": "text/x-python",
   "name": "python",
   "nbconvert_exporter": "python",
   "pygments_lexer": "ipython3",
   "version": "3.7.3"
  }
 },
 "nbformat": 4,
 "nbformat_minor": 2
}
