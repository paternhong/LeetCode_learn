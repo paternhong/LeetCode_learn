{
 "cells": [
  {
   "cell_type": "markdown",
   "metadata": {},
   "source": [
    "Given a string S that only contains \"I\" (increase) or \"D\" (decrease), let N = S.length.  \n",
    "Return any permutation A of <font color=green>[0, 1, ..., N]</font> such that for all i = 0, ..., N-1:\n",
    "\n",
    "If S<font color=green>[i]</font> == \"I\", then A<font color=green>[i]</font> < A<font color=green>[i+1]</font>\n",
    "If S<font color=green>[i]</font> == \"D\", then A<font color=green>[i]</font> > A<font color=green>[i+1]</font>\n",
    " \n",
    "```python\n",
    "Example 1:\n",
    "\n",
    "Input: \"IDID\"\n",
    "Output: [0,4,1,3,2]\n",
    "Example 2:\n",
    "\n",
    "Input: \"III\"\n",
    "Output: [0,1,2,3]\n",
    "Example 3:\n",
    "\n",
    "Input: \"DDI\"\n",
    "Output: [3,2,0,1]\n",
    "``` \n",
    "\n",
    "Note:  \n",
    "1 <= S.length <= 10000  \n",
    "S only contains characters \"I\" or \"D\"."
   ]
  },
  {
   "cell_type": "markdown",
   "metadata": {},
   "source": [
    "## Answer"
   ]
  },
  {
   "cell_type": "markdown",
   "metadata": {},
   "source": [
    "```python\n",
    "class Solution:\n",
    "    def diStringMatch(self, S: str) -> List[int]:\n",
    "        # initial I and D\n",
    "        I_part = 0\n",
    "        D_part = len(S)\n",
    "        n = len(S)\n",
    "        # ans的前n位數\n",
    "        ans = []\n",
    "        for i in range(n):\n",
    "            if S[i] == 'I':\n",
    "                ans.append(I_part)\n",
    "                I_part += 1\n",
    "            else:\n",
    "                ans.append(D_part)\n",
    "                D_part -= 1\n",
    "        # 最後一個位數依據前n位數的最後一個位數決定要+1還是-1\n",
    "        if S[-1] == 'I':\n",
    "            ans.append(I_part)\n",
    "        else:\n",
    "            ans.append(D_part)\n",
    "        \n",
    "        return ans\n",
    "```"
   ]
  },
  {
   "cell_type": "markdown",
   "metadata": {},
   "source": []
  },
  {
   "cell_type": "markdown",
   "metadata": {},
   "source": []
  }
 ],
 "metadata": {
  "kernelspec": {
   "display_name": "Python 3",
   "language": "python",
   "name": "python3"
  },
  "language_info": {
   "codemirror_mode": {
    "name": "ipython",
    "version": 3
   },
   "file_extension": ".py",
   "mimetype": "text/x-python",
   "name": "python",
   "nbconvert_exporter": "python",
   "pygments_lexer": "ipython3",
   "version": "3.7.3"
  }
 },
 "nbformat": 4,
 "nbformat_minor": 2
}
