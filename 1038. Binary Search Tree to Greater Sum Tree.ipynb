{
 "cells": [
  {
   "cell_type": "markdown",
   "metadata": {},
   "source": [
    "Given the root of a binary search tree with distinct values, modify it so that every node has a new value equal to the sum of the values of the original tree that are greater than or equal to node.val.\n",
    "\n",
    "As a reminder, a binary search tree is a tree that satisfies these constraints:\n",
    "\n",
    "The left subtree of a node contains only nodes with keys less than the node's key.  \n",
    "The right subtree of a node contains only nodes with keys greater than the node's key.  \n",
    "Both the left and right subtrees must also be binary search trees."
   ]
  },
  {
   "cell_type": "markdown",
   "metadata": {},
   "source": [
    "https://leetcode.com/problems/binary-search-tree-to-greater-sum-tree/"
   ]
  },
  {
   "cell_type": "markdown",
   "metadata": {},
   "source": [
    "Input: [4,1,6,0,2,5,7,null,null,null,3,null,null,null,8]\n",
    "Output: [30,36,21,36,35,26,15,null,null,null,33,null,null,null,8]"
   ]
  },
  {
   "cell_type": "code",
   "execution_count": null,
   "metadata": {},
   "outputs": [],
   "source": [
    "class Solution:\n",
    "    def bstToGst(self, root: TreeNode) -> TreeNode:\n",
    "        \n",
    "        self.gre_num = 0\n",
    "            \n",
    "        def treversal(root):\n",
    "            if not root:\n",
    "                return\n",
    "            else:\n",
    "                treversal(root.right)\n",
    "                self.gre_num = self.gre_num + root.val\n",
    "                root.val = self.gre_num\n",
    "                treversal(root.left)\n",
    "            return root\n",
    " \n",
    "        treversal(root)    \n",
    "        \n",
    "        return root"
   ]
  },
  {
   "cell_type": "code",
   "execution_count": null,
   "metadata": {},
   "outputs": [],
   "source": []
  }
 ],
 "metadata": {
  "kernelspec": {
   "display_name": "Python 3",
   "language": "python",
   "name": "python3"
  },
  "language_info": {
   "codemirror_mode": {
    "name": "ipython",
    "version": 3
   },
   "file_extension": ".py",
   "mimetype": "text/x-python",
   "name": "python",
   "nbconvert_exporter": "python",
   "pygments_lexer": "ipython3",
   "version": "3.7.3"
  }
 },
 "nbformat": 4,
 "nbformat_minor": 2
}
